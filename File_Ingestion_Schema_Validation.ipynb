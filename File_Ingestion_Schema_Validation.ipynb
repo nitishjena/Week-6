{
  "nbformat": 4,
  "nbformat_minor": 0,
  "metadata": {
    "colab": {
      "provenance": []
    },
    "kernelspec": {
      "name": "python3",
      "display_name": "Python 3"
    },
    "language_info": {
      "name": "python"
    },
    "widgets": {
      "application/vnd.jupyter.widget-state+json": {
        "e83ec5329e084da6947adb6c64bba16f": {
          "model_module": "@jupyter-widgets/controls",
          "model_name": "HBoxModel",
          "model_module_version": "1.5.0",
          "state": {
            "_dom_classes": [],
            "_model_module": "@jupyter-widgets/controls",
            "_model_module_version": "1.5.0",
            "_model_name": "HBoxModel",
            "_view_count": null,
            "_view_module": "@jupyter-widgets/controls",
            "_view_module_version": "1.5.0",
            "_view_name": "HBoxView",
            "box_style": "",
            "children": [
              "IPY_MODEL_c4909a967164466eba56002d553b9311",
              "IPY_MODEL_115b2de2cea144fb9ef97283da086814",
              "IPY_MODEL_3efd71793362482cae36bebd576f3ee6"
            ],
            "layout": "IPY_MODEL_307d9e93493d4c418d12a79dbd81f821"
          }
        },
        "c4909a967164466eba56002d553b9311": {
          "model_module": "@jupyter-widgets/controls",
          "model_name": "HTMLModel",
          "model_module_version": "1.5.0",
          "state": {
            "_dom_classes": [],
            "_model_module": "@jupyter-widgets/controls",
            "_model_module_version": "1.5.0",
            "_model_name": "HTMLModel",
            "_view_count": null,
            "_view_module": "@jupyter-widgets/controls",
            "_view_module_version": "1.5.0",
            "_view_name": "HTMLView",
            "description": "",
            "description_tooltip": null,
            "layout": "IPY_MODEL_c2179b10b50a4948884fe932eb72e19f",
            "placeholder": "​",
            "style": "IPY_MODEL_8e979d76dd25459b869147bde563922a",
            "value": "⚠️  Dataset execution failed: "
          }
        },
        "115b2de2cea144fb9ef97283da086814": {
          "model_module": "@jupyter-widgets/controls",
          "model_name": "FloatProgressModel",
          "model_module_version": "1.5.0",
          "state": {
            "_dom_classes": [],
            "_model_module": "@jupyter-widgets/controls",
            "_model_module_version": "1.5.0",
            "_model_name": "FloatProgressModel",
            "_view_count": null,
            "_view_module": "@jupyter-widgets/controls",
            "_view_module_version": "1.5.0",
            "_view_name": "ProgressView",
            "bar_style": "success",
            "description": "",
            "description_tooltip": null,
            "layout": "IPY_MODEL_ee72813d7a7842e19d96e51e5f81c74d",
            "max": 1,
            "min": 0,
            "orientation": "horizontal",
            "style": "IPY_MODEL_f8bae8098b2540f4b2f2eb05c0d05645",
            "value": 0
          }
        },
        "3efd71793362482cae36bebd576f3ee6": {
          "model_module": "@jupyter-widgets/controls",
          "model_name": "HTMLModel",
          "model_module_version": "1.5.0",
          "state": {
            "_dom_classes": [],
            "_model_module": "@jupyter-widgets/controls",
            "_model_module_version": "1.5.0",
            "_model_name": "HTMLModel",
            "_view_count": null,
            "_view_module": "@jupyter-widgets/controls",
            "_view_module_version": "1.5.0",
            "_view_name": "HTMLView",
            "description": "",
            "description_tooltip": null,
            "layout": "IPY_MODEL_1f210a5f9b4e4519b6f3410dcab48f02",
            "placeholder": "​",
            "style": "IPY_MODEL_709e3d64dad0461d9fc7166382c84e39",
            "value": " 0.00/? [00:00&lt;?, ? row/s]"
          }
        },
        "307d9e93493d4c418d12a79dbd81f821": {
          "model_module": "@jupyter-widgets/base",
          "model_name": "LayoutModel",
          "model_module_version": "1.2.0",
          "state": {
            "_model_module": "@jupyter-widgets/base",
            "_model_module_version": "1.2.0",
            "_model_name": "LayoutModel",
            "_view_count": null,
            "_view_module": "@jupyter-widgets/base",
            "_view_module_version": "1.2.0",
            "_view_name": "LayoutView",
            "align_content": null,
            "align_items": null,
            "align_self": null,
            "border": null,
            "bottom": null,
            "display": "inline-flex",
            "flex": null,
            "flex_flow": "row wrap",
            "grid_area": null,
            "grid_auto_columns": null,
            "grid_auto_flow": null,
            "grid_auto_rows": null,
            "grid_column": null,
            "grid_gap": null,
            "grid_row": null,
            "grid_template_areas": null,
            "grid_template_columns": null,
            "grid_template_rows": null,
            "height": null,
            "justify_content": null,
            "justify_items": null,
            "left": null,
            "margin": null,
            "max_height": null,
            "max_width": null,
            "min_height": null,
            "min_width": null,
            "object_fit": null,
            "object_position": null,
            "order": null,
            "overflow": null,
            "overflow_x": null,
            "overflow_y": null,
            "padding": null,
            "right": null,
            "top": null,
            "visibility": null,
            "width": "100%"
          }
        },
        "c2179b10b50a4948884fe932eb72e19f": {
          "model_module": "@jupyter-widgets/base",
          "model_name": "LayoutModel",
          "model_module_version": "1.2.0",
          "state": {
            "_model_module": "@jupyter-widgets/base",
            "_model_module_version": "1.2.0",
            "_model_name": "LayoutModel",
            "_view_count": null,
            "_view_module": "@jupyter-widgets/base",
            "_view_module_version": "1.2.0",
            "_view_name": "LayoutView",
            "align_content": null,
            "align_items": null,
            "align_self": null,
            "border": null,
            "bottom": null,
            "display": null,
            "flex": null,
            "flex_flow": null,
            "grid_area": null,
            "grid_auto_columns": null,
            "grid_auto_flow": null,
            "grid_auto_rows": null,
            "grid_column": null,
            "grid_gap": null,
            "grid_row": null,
            "grid_template_areas": null,
            "grid_template_columns": null,
            "grid_template_rows": null,
            "height": null,
            "justify_content": null,
            "justify_items": null,
            "left": null,
            "margin": null,
            "max_height": null,
            "max_width": null,
            "min_height": null,
            "min_width": null,
            "object_fit": null,
            "object_position": null,
            "order": null,
            "overflow": null,
            "overflow_x": null,
            "overflow_y": null,
            "padding": null,
            "right": null,
            "top": null,
            "visibility": null,
            "width": null
          }
        },
        "8e979d76dd25459b869147bde563922a": {
          "model_module": "@jupyter-widgets/controls",
          "model_name": "DescriptionStyleModel",
          "model_module_version": "1.5.0",
          "state": {
            "_model_module": "@jupyter-widgets/controls",
            "_model_module_version": "1.5.0",
            "_model_name": "DescriptionStyleModel",
            "_view_count": null,
            "_view_module": "@jupyter-widgets/base",
            "_view_module_version": "1.2.0",
            "_view_name": "StyleView",
            "description_width": ""
          }
        },
        "ee72813d7a7842e19d96e51e5f81c74d": {
          "model_module": "@jupyter-widgets/base",
          "model_name": "LayoutModel",
          "model_module_version": "1.2.0",
          "state": {
            "_model_module": "@jupyter-widgets/base",
            "_model_module_version": "1.2.0",
            "_model_name": "LayoutModel",
            "_view_count": null,
            "_view_module": "@jupyter-widgets/base",
            "_view_module_version": "1.2.0",
            "_view_name": "LayoutView",
            "align_content": null,
            "align_items": null,
            "align_self": null,
            "border": null,
            "bottom": null,
            "display": null,
            "flex": "2",
            "flex_flow": null,
            "grid_area": null,
            "grid_auto_columns": null,
            "grid_auto_flow": null,
            "grid_auto_rows": null,
            "grid_column": null,
            "grid_gap": null,
            "grid_row": null,
            "grid_template_areas": null,
            "grid_template_columns": null,
            "grid_template_rows": null,
            "height": null,
            "justify_content": null,
            "justify_items": null,
            "left": null,
            "margin": null,
            "max_height": null,
            "max_width": null,
            "min_height": null,
            "min_width": null,
            "object_fit": null,
            "object_position": null,
            "order": null,
            "overflow": null,
            "overflow_x": null,
            "overflow_y": null,
            "padding": null,
            "right": null,
            "top": null,
            "visibility": null,
            "width": null
          }
        },
        "f8bae8098b2540f4b2f2eb05c0d05645": {
          "model_module": "@jupyter-widgets/controls",
          "model_name": "ProgressStyleModel",
          "model_module_version": "1.5.0",
          "state": {
            "_model_module": "@jupyter-widgets/controls",
            "_model_module_version": "1.5.0",
            "_model_name": "ProgressStyleModel",
            "_view_count": null,
            "_view_module": "@jupyter-widgets/base",
            "_view_module_version": "1.2.0",
            "_view_name": "StyleView",
            "bar_color": null,
            "description_width": ""
          }
        },
        "1f210a5f9b4e4519b6f3410dcab48f02": {
          "model_module": "@jupyter-widgets/base",
          "model_name": "LayoutModel",
          "model_module_version": "1.2.0",
          "state": {
            "_model_module": "@jupyter-widgets/base",
            "_model_module_version": "1.2.0",
            "_model_name": "LayoutModel",
            "_view_count": null,
            "_view_module": "@jupyter-widgets/base",
            "_view_module_version": "1.2.0",
            "_view_name": "LayoutView",
            "align_content": null,
            "align_items": null,
            "align_self": null,
            "border": null,
            "bottom": null,
            "display": null,
            "flex": null,
            "flex_flow": null,
            "grid_area": null,
            "grid_auto_columns": null,
            "grid_auto_flow": null,
            "grid_auto_rows": null,
            "grid_column": null,
            "grid_gap": null,
            "grid_row": null,
            "grid_template_areas": null,
            "grid_template_columns": null,
            "grid_template_rows": null,
            "height": null,
            "justify_content": null,
            "justify_items": null,
            "left": null,
            "margin": null,
            "max_height": null,
            "max_width": null,
            "min_height": null,
            "min_width": null,
            "object_fit": null,
            "object_position": null,
            "order": null,
            "overflow": null,
            "overflow_x": null,
            "overflow_y": null,
            "padding": null,
            "right": null,
            "top": null,
            "visibility": null,
            "width": null
          }
        },
        "709e3d64dad0461d9fc7166382c84e39": {
          "model_module": "@jupyter-widgets/controls",
          "model_name": "DescriptionStyleModel",
          "model_module_version": "1.5.0",
          "state": {
            "_model_module": "@jupyter-widgets/controls",
            "_model_module_version": "1.5.0",
            "_model_name": "DescriptionStyleModel",
            "_view_count": null,
            "_view_module": "@jupyter-widgets/base",
            "_view_module_version": "1.2.0",
            "_view_name": "StyleView",
            "description_width": ""
          }
        },
        "9bb6817de42d4a1992fe89f454359791": {
          "model_module": "@jupyter-widgets/controls",
          "model_name": "HBoxModel",
          "model_module_version": "1.5.0",
          "state": {
            "_dom_classes": [],
            "_model_module": "@jupyter-widgets/controls",
            "_model_module_version": "1.5.0",
            "_model_name": "HBoxModel",
            "_view_count": null,
            "_view_module": "@jupyter-widgets/controls",
            "_view_module_version": "1.5.0",
            "_view_name": "HBoxView",
            "box_style": "",
            "children": [
              "IPY_MODEL_f613a743957c4e2ba3daf6073f2c7c2d",
              "IPY_MODEL_7b1e18b643494ae18557a813fd675074",
              "IPY_MODEL_2eedeb139c7643a5bb6a408bb543304f"
            ],
            "layout": "IPY_MODEL_12a681455c984c2c89573b430898ce75"
          }
        },
        "f613a743957c4e2ba3daf6073f2c7c2d": {
          "model_module": "@jupyter-widgets/controls",
          "model_name": "HTMLModel",
          "model_module_version": "1.5.0",
          "state": {
            "_dom_classes": [],
            "_model_module": "@jupyter-widgets/controls",
            "_model_module_version": "1.5.0",
            "_model_name": "HTMLModel",
            "_view_count": null,
            "_view_module": "@jupyter-widgets/controls",
            "_view_module_version": "1.5.0",
            "_view_name": "HTMLView",
            "description": "",
            "description_tooltip": null,
            "layout": "IPY_MODEL_ccc8e1d1c4da4d3789ff6cf83e4c858e",
            "placeholder": "​",
            "style": "IPY_MODEL_201ff780603745a79100439d62963f22",
            "value": "- ReadCSV-&gt;SplitBlocks(4): Tasks: 1; Queued blocks: 0; Resources: 1.0 CPU, 256.0MB object store: "
          }
        },
        "7b1e18b643494ae18557a813fd675074": {
          "model_module": "@jupyter-widgets/controls",
          "model_name": "FloatProgressModel",
          "model_module_version": "1.5.0",
          "state": {
            "_dom_classes": [],
            "_model_module": "@jupyter-widgets/controls",
            "_model_module_version": "1.5.0",
            "_model_name": "FloatProgressModel",
            "_view_count": null,
            "_view_module": "@jupyter-widgets/controls",
            "_view_module_version": "1.5.0",
            "_view_name": "ProgressView",
            "bar_style": "success",
            "description": "",
            "description_tooltip": null,
            "layout": "IPY_MODEL_1e594fb5ed0a4cf7b38782f0429e6714",
            "max": 1,
            "min": 0,
            "orientation": "horizontal",
            "style": "IPY_MODEL_28015923ee564edba1205896c9f38065",
            "value": 0
          }
        },
        "2eedeb139c7643a5bb6a408bb543304f": {
          "model_module": "@jupyter-widgets/controls",
          "model_name": "HTMLModel",
          "model_module_version": "1.5.0",
          "state": {
            "_dom_classes": [],
            "_model_module": "@jupyter-widgets/controls",
            "_model_module_version": "1.5.0",
            "_model_name": "HTMLModel",
            "_view_count": null,
            "_view_module": "@jupyter-widgets/controls",
            "_view_module_version": "1.5.0",
            "_view_name": "HTMLView",
            "description": "",
            "description_tooltip": null,
            "layout": "IPY_MODEL_5d7169e6fedc4ac78eb6f23113e4e99c",
            "placeholder": "​",
            "style": "IPY_MODEL_51591db13cc94b03b246043a6a62c989",
            "value": " 0.00/? [00:00&lt;?, ? row/s]"
          }
        },
        "12a681455c984c2c89573b430898ce75": {
          "model_module": "@jupyter-widgets/base",
          "model_name": "LayoutModel",
          "model_module_version": "1.2.0",
          "state": {
            "_model_module": "@jupyter-widgets/base",
            "_model_module_version": "1.2.0",
            "_model_name": "LayoutModel",
            "_view_count": null,
            "_view_module": "@jupyter-widgets/base",
            "_view_module_version": "1.2.0",
            "_view_name": "LayoutView",
            "align_content": null,
            "align_items": null,
            "align_self": null,
            "border": null,
            "bottom": null,
            "display": "inline-flex",
            "flex": null,
            "flex_flow": "row wrap",
            "grid_area": null,
            "grid_auto_columns": null,
            "grid_auto_flow": null,
            "grid_auto_rows": null,
            "grid_column": null,
            "grid_gap": null,
            "grid_row": null,
            "grid_template_areas": null,
            "grid_template_columns": null,
            "grid_template_rows": null,
            "height": null,
            "justify_content": null,
            "justify_items": null,
            "left": null,
            "margin": null,
            "max_height": null,
            "max_width": null,
            "min_height": null,
            "min_width": null,
            "object_fit": null,
            "object_position": null,
            "order": null,
            "overflow": null,
            "overflow_x": null,
            "overflow_y": null,
            "padding": null,
            "right": null,
            "top": null,
            "visibility": null,
            "width": "100%"
          }
        },
        "ccc8e1d1c4da4d3789ff6cf83e4c858e": {
          "model_module": "@jupyter-widgets/base",
          "model_name": "LayoutModel",
          "model_module_version": "1.2.0",
          "state": {
            "_model_module": "@jupyter-widgets/base",
            "_model_module_version": "1.2.0",
            "_model_name": "LayoutModel",
            "_view_count": null,
            "_view_module": "@jupyter-widgets/base",
            "_view_module_version": "1.2.0",
            "_view_name": "LayoutView",
            "align_content": null,
            "align_items": null,
            "align_self": null,
            "border": null,
            "bottom": null,
            "display": null,
            "flex": null,
            "flex_flow": null,
            "grid_area": null,
            "grid_auto_columns": null,
            "grid_auto_flow": null,
            "grid_auto_rows": null,
            "grid_column": null,
            "grid_gap": null,
            "grid_row": null,
            "grid_template_areas": null,
            "grid_template_columns": null,
            "grid_template_rows": null,
            "height": null,
            "justify_content": null,
            "justify_items": null,
            "left": null,
            "margin": null,
            "max_height": null,
            "max_width": null,
            "min_height": null,
            "min_width": null,
            "object_fit": null,
            "object_position": null,
            "order": null,
            "overflow": null,
            "overflow_x": null,
            "overflow_y": null,
            "padding": null,
            "right": null,
            "top": null,
            "visibility": null,
            "width": null
          }
        },
        "201ff780603745a79100439d62963f22": {
          "model_module": "@jupyter-widgets/controls",
          "model_name": "DescriptionStyleModel",
          "model_module_version": "1.5.0",
          "state": {
            "_model_module": "@jupyter-widgets/controls",
            "_model_module_version": "1.5.0",
            "_model_name": "DescriptionStyleModel",
            "_view_count": null,
            "_view_module": "@jupyter-widgets/base",
            "_view_module_version": "1.2.0",
            "_view_name": "StyleView",
            "description_width": ""
          }
        },
        "1e594fb5ed0a4cf7b38782f0429e6714": {
          "model_module": "@jupyter-widgets/base",
          "model_name": "LayoutModel",
          "model_module_version": "1.2.0",
          "state": {
            "_model_module": "@jupyter-widgets/base",
            "_model_module_version": "1.2.0",
            "_model_name": "LayoutModel",
            "_view_count": null,
            "_view_module": "@jupyter-widgets/base",
            "_view_module_version": "1.2.0",
            "_view_name": "LayoutView",
            "align_content": null,
            "align_items": null,
            "align_self": null,
            "border": null,
            "bottom": null,
            "display": null,
            "flex": "2",
            "flex_flow": null,
            "grid_area": null,
            "grid_auto_columns": null,
            "grid_auto_flow": null,
            "grid_auto_rows": null,
            "grid_column": null,
            "grid_gap": null,
            "grid_row": null,
            "grid_template_areas": null,
            "grid_template_columns": null,
            "grid_template_rows": null,
            "height": null,
            "justify_content": null,
            "justify_items": null,
            "left": null,
            "margin": null,
            "max_height": null,
            "max_width": null,
            "min_height": null,
            "min_width": null,
            "object_fit": null,
            "object_position": null,
            "order": null,
            "overflow": null,
            "overflow_x": null,
            "overflow_y": null,
            "padding": null,
            "right": null,
            "top": null,
            "visibility": null,
            "width": null
          }
        },
        "28015923ee564edba1205896c9f38065": {
          "model_module": "@jupyter-widgets/controls",
          "model_name": "ProgressStyleModel",
          "model_module_version": "1.5.0",
          "state": {
            "_model_module": "@jupyter-widgets/controls",
            "_model_module_version": "1.5.0",
            "_model_name": "ProgressStyleModel",
            "_view_count": null,
            "_view_module": "@jupyter-widgets/base",
            "_view_module_version": "1.2.0",
            "_view_name": "StyleView",
            "bar_color": null,
            "description_width": ""
          }
        },
        "5d7169e6fedc4ac78eb6f23113e4e99c": {
          "model_module": "@jupyter-widgets/base",
          "model_name": "LayoutModel",
          "model_module_version": "1.2.0",
          "state": {
            "_model_module": "@jupyter-widgets/base",
            "_model_module_version": "1.2.0",
            "_model_name": "LayoutModel",
            "_view_count": null,
            "_view_module": "@jupyter-widgets/base",
            "_view_module_version": "1.2.0",
            "_view_name": "LayoutView",
            "align_content": null,
            "align_items": null,
            "align_self": null,
            "border": null,
            "bottom": null,
            "display": null,
            "flex": null,
            "flex_flow": null,
            "grid_area": null,
            "grid_auto_columns": null,
            "grid_auto_flow": null,
            "grid_auto_rows": null,
            "grid_column": null,
            "grid_gap": null,
            "grid_row": null,
            "grid_template_areas": null,
            "grid_template_columns": null,
            "grid_template_rows": null,
            "height": null,
            "justify_content": null,
            "justify_items": null,
            "left": null,
            "margin": null,
            "max_height": null,
            "max_width": null,
            "min_height": null,
            "min_width": null,
            "object_fit": null,
            "object_position": null,
            "order": null,
            "overflow": null,
            "overflow_x": null,
            "overflow_y": null,
            "padding": null,
            "right": null,
            "top": null,
            "visibility": null,
            "width": null
          }
        },
        "51591db13cc94b03b246043a6a62c989": {
          "model_module": "@jupyter-widgets/controls",
          "model_name": "DescriptionStyleModel",
          "model_module_version": "1.5.0",
          "state": {
            "_model_module": "@jupyter-widgets/controls",
            "_model_module_version": "1.5.0",
            "_model_name": "DescriptionStyleModel",
            "_view_count": null,
            "_view_module": "@jupyter-widgets/base",
            "_view_module_version": "1.2.0",
            "_view_name": "StyleView",
            "description_width": ""
          }
        }
      }
    }
  },
  "cells": [
    {
      "cell_type": "code",
      "execution_count": null,
      "metadata": {
        "id": "vqt2Y8c0_-7u"
      },
      "outputs": [],
      "source": []
    },
    {
      "cell_type": "code",
      "source": [
        "from google.colab import drive\n",
        "drive.mount('/content/drive')\n"
      ],
      "metadata": {
        "colab": {
          "base_uri": "https://localhost:8080/"
        },
        "id": "SqrG2VkZrlRf",
        "outputId": "dd2a02e6-fc81-4158-8011-1d77fafdd883"
      },
      "execution_count": 1,
      "outputs": [
        {
          "output_type": "stream",
          "name": "stdout",
          "text": [
            "Mounted at /content/drive\n"
          ]
        }
      ]
    },
    {
      "cell_type": "code",
      "source": [
        "!ls /content/drive/My\\ Drive/\n"
      ],
      "metadata": {
        "colab": {
          "base_uri": "https://localhost:8080/"
        },
        "id": "ERVXV-wqr_CS",
        "outputId": "bdda759f-24e0-4cc7-cf1d-9766b3d724f3"
      },
      "execution_count": 2,
      "outputs": [
        {
          "output_type": "stream",
          "name": "stdout",
          "text": [
            "'Colab Notebooks'\n",
            "'Document from N!T!SH'\n",
            "'Empowering Pharma with Data Insights.gdoc'\n",
            " IMG_20170203_175255766.jpg\n",
            "'Moto x4'\n",
            "'New Version (3) (1).docx'\n",
            "'NITISH ALL CONTACTS'\n",
            " steam_reviews.csv\n",
            " Ticket.pdf\n",
            " Video\n",
            "'what can we learn from the above case of Wells Fargo.gsheet'\n"
          ]
        }
      ]
    },
    {
      "cell_type": "code",
      "source": [
        "file_path = \"/content/drive/My Drive/steam_reviews.csv\"\n"
      ],
      "metadata": {
        "id": "bPEATlC6sK7F"
      },
      "execution_count": 3,
      "outputs": []
    },
    {
      "cell_type": "code",
      "source": [
        "!pip install modin[ray]  # Install Modin with Ray backend\n",
        "!pip install ray  # Ensure Ray is installed too\n"
      ],
      "metadata": {
        "colab": {
          "base_uri": "https://localhost:8080/"
        },
        "id": "UiqPGKtRaPs2",
        "outputId": "62d53854-345d-4f43-bcb9-d7a9bc5f9b21"
      },
      "execution_count": 4,
      "outputs": [
        {
          "output_type": "stream",
          "name": "stdout",
          "text": [
            "Collecting modin[ray]\n",
            "  Downloading modin-0.32.0-py3-none-any.whl.metadata (17 kB)\n",
            "Requirement already satisfied: pandas<2.3,>=2.2 in /usr/local/lib/python3.11/dist-packages (from modin[ray]) (2.2.2)\n",
            "Requirement already satisfied: packaging>=21.0 in /usr/local/lib/python3.11/dist-packages (from modin[ray]) (24.2)\n",
            "Requirement already satisfied: numpy>=1.22.4 in /usr/local/lib/python3.11/dist-packages (from modin[ray]) (1.26.4)\n",
            "Requirement already satisfied: fsspec>=2022.11.0 in /usr/local/lib/python3.11/dist-packages (from modin[ray]) (2024.10.0)\n",
            "Requirement already satisfied: psutil>=5.8.0 in /usr/local/lib/python3.11/dist-packages (from modin[ray]) (5.9.5)\n",
            "Collecting ray!=2.5.0,>=2.1.0 (from modin[ray])\n",
            "  Downloading ray-2.42.0-cp311-cp311-manylinux2014_x86_64.whl.metadata (18 kB)\n",
            "Requirement already satisfied: pyarrow>=10.0.1 in /usr/local/lib/python3.11/dist-packages (from modin[ray]) (17.0.0)\n",
            "Requirement already satisfied: python-dateutil>=2.8.2 in /usr/local/lib/python3.11/dist-packages (from pandas<2.3,>=2.2->modin[ray]) (2.8.2)\n",
            "Requirement already satisfied: pytz>=2020.1 in /usr/local/lib/python3.11/dist-packages (from pandas<2.3,>=2.2->modin[ray]) (2024.2)\n",
            "Requirement already satisfied: tzdata>=2022.7 in /usr/local/lib/python3.11/dist-packages (from pandas<2.3,>=2.2->modin[ray]) (2025.1)\n",
            "Requirement already satisfied: click>=7.0 in /usr/local/lib/python3.11/dist-packages (from ray!=2.5.0,>=2.1.0->modin[ray]) (8.1.8)\n",
            "Requirement already satisfied: filelock in /usr/local/lib/python3.11/dist-packages (from ray!=2.5.0,>=2.1.0->modin[ray]) (3.17.0)\n",
            "Requirement already satisfied: jsonschema in /usr/local/lib/python3.11/dist-packages (from ray!=2.5.0,>=2.1.0->modin[ray]) (4.23.0)\n",
            "Requirement already satisfied: msgpack<2.0.0,>=1.0.0 in /usr/local/lib/python3.11/dist-packages (from ray!=2.5.0,>=2.1.0->modin[ray]) (1.1.0)\n",
            "Requirement already satisfied: protobuf!=3.19.5,>=3.15.3 in /usr/local/lib/python3.11/dist-packages (from ray!=2.5.0,>=2.1.0->modin[ray]) (4.25.6)\n",
            "Requirement already satisfied: pyyaml in /usr/local/lib/python3.11/dist-packages (from ray!=2.5.0,>=2.1.0->modin[ray]) (6.0.2)\n",
            "Requirement already satisfied: aiosignal in /usr/local/lib/python3.11/dist-packages (from ray!=2.5.0,>=2.1.0->modin[ray]) (1.3.2)\n",
            "Requirement already satisfied: frozenlist in /usr/local/lib/python3.11/dist-packages (from ray!=2.5.0,>=2.1.0->modin[ray]) (1.5.0)\n",
            "Requirement already satisfied: requests in /usr/local/lib/python3.11/dist-packages (from ray!=2.5.0,>=2.1.0->modin[ray]) (2.32.3)\n",
            "Requirement already satisfied: six>=1.5 in /usr/local/lib/python3.11/dist-packages (from python-dateutil>=2.8.2->pandas<2.3,>=2.2->modin[ray]) (1.17.0)\n",
            "Requirement already satisfied: attrs>=22.2.0 in /usr/local/lib/python3.11/dist-packages (from jsonschema->ray!=2.5.0,>=2.1.0->modin[ray]) (25.1.0)\n",
            "Requirement already satisfied: jsonschema-specifications>=2023.03.6 in /usr/local/lib/python3.11/dist-packages (from jsonschema->ray!=2.5.0,>=2.1.0->modin[ray]) (2024.10.1)\n",
            "Requirement already satisfied: referencing>=0.28.4 in /usr/local/lib/python3.11/dist-packages (from jsonschema->ray!=2.5.0,>=2.1.0->modin[ray]) (0.36.2)\n",
            "Requirement already satisfied: rpds-py>=0.7.1 in /usr/local/lib/python3.11/dist-packages (from jsonschema->ray!=2.5.0,>=2.1.0->modin[ray]) (0.22.3)\n",
            "Requirement already satisfied: charset-normalizer<4,>=2 in /usr/local/lib/python3.11/dist-packages (from requests->ray!=2.5.0,>=2.1.0->modin[ray]) (3.4.1)\n",
            "Requirement already satisfied: idna<4,>=2.5 in /usr/local/lib/python3.11/dist-packages (from requests->ray!=2.5.0,>=2.1.0->modin[ray]) (3.10)\n",
            "Requirement already satisfied: urllib3<3,>=1.21.1 in /usr/local/lib/python3.11/dist-packages (from requests->ray!=2.5.0,>=2.1.0->modin[ray]) (2.3.0)\n",
            "Requirement already satisfied: certifi>=2017.4.17 in /usr/local/lib/python3.11/dist-packages (from requests->ray!=2.5.0,>=2.1.0->modin[ray]) (2024.12.14)\n",
            "Requirement already satisfied: typing-extensions>=4.4.0 in /usr/local/lib/python3.11/dist-packages (from referencing>=0.28.4->jsonschema->ray!=2.5.0,>=2.1.0->modin[ray]) (4.12.2)\n",
            "Downloading ray-2.42.0-cp311-cp311-manylinux2014_x86_64.whl (67.4 MB)\n",
            "\u001b[2K   \u001b[90m━━━━━━━━━━━━━━━━━━━━━━━━━━━━━━━━━━━━━━━━\u001b[0m \u001b[32m67.4/67.4 MB\u001b[0m \u001b[31m9.6 MB/s\u001b[0m eta \u001b[36m0:00:00\u001b[0m\n",
            "\u001b[?25hDownloading modin-0.32.0-py3-none-any.whl (1.1 MB)\n",
            "\u001b[2K   \u001b[90m━━━━━━━━━━━━━━━━━━━━━━━━━━━━━━━━━━━━━━━━\u001b[0m \u001b[32m1.1/1.1 MB\u001b[0m \u001b[31m44.2 MB/s\u001b[0m eta \u001b[36m0:00:00\u001b[0m\n",
            "\u001b[?25hInstalling collected packages: modin, ray\n",
            "Successfully installed modin-0.32.0 ray-2.42.0\n",
            "Requirement already satisfied: ray in /usr/local/lib/python3.11/dist-packages (2.42.0)\n",
            "Requirement already satisfied: click>=7.0 in /usr/local/lib/python3.11/dist-packages (from ray) (8.1.8)\n",
            "Requirement already satisfied: filelock in /usr/local/lib/python3.11/dist-packages (from ray) (3.17.0)\n",
            "Requirement already satisfied: jsonschema in /usr/local/lib/python3.11/dist-packages (from ray) (4.23.0)\n",
            "Requirement already satisfied: msgpack<2.0.0,>=1.0.0 in /usr/local/lib/python3.11/dist-packages (from ray) (1.1.0)\n",
            "Requirement already satisfied: packaging in /usr/local/lib/python3.11/dist-packages (from ray) (24.2)\n",
            "Requirement already satisfied: protobuf!=3.19.5,>=3.15.3 in /usr/local/lib/python3.11/dist-packages (from ray) (4.25.6)\n",
            "Requirement already satisfied: pyyaml in /usr/local/lib/python3.11/dist-packages (from ray) (6.0.2)\n",
            "Requirement already satisfied: aiosignal in /usr/local/lib/python3.11/dist-packages (from ray) (1.3.2)\n",
            "Requirement already satisfied: frozenlist in /usr/local/lib/python3.11/dist-packages (from ray) (1.5.0)\n",
            "Requirement already satisfied: requests in /usr/local/lib/python3.11/dist-packages (from ray) (2.32.3)\n",
            "Requirement already satisfied: attrs>=22.2.0 in /usr/local/lib/python3.11/dist-packages (from jsonschema->ray) (25.1.0)\n",
            "Requirement already satisfied: jsonschema-specifications>=2023.03.6 in /usr/local/lib/python3.11/dist-packages (from jsonschema->ray) (2024.10.1)\n",
            "Requirement already satisfied: referencing>=0.28.4 in /usr/local/lib/python3.11/dist-packages (from jsonschema->ray) (0.36.2)\n",
            "Requirement already satisfied: rpds-py>=0.7.1 in /usr/local/lib/python3.11/dist-packages (from jsonschema->ray) (0.22.3)\n",
            "Requirement already satisfied: charset-normalizer<4,>=2 in /usr/local/lib/python3.11/dist-packages (from requests->ray) (3.4.1)\n",
            "Requirement already satisfied: idna<4,>=2.5 in /usr/local/lib/python3.11/dist-packages (from requests->ray) (3.10)\n",
            "Requirement already satisfied: urllib3<3,>=1.21.1 in /usr/local/lib/python3.11/dist-packages (from requests->ray) (2.3.0)\n",
            "Requirement already satisfied: certifi>=2017.4.17 in /usr/local/lib/python3.11/dist-packages (from requests->ray) (2024.12.14)\n",
            "Requirement already satisfied: typing-extensions>=4.4.0 in /usr/local/lib/python3.11/dist-packages (from referencing>=0.28.4->jsonschema->ray) (4.12.2)\n"
          ]
        }
      ]
    },
    {
      "cell_type": "code",
      "source": [
        "import pandas as pd\n",
        "import dask.dataframe as dd\n",
        "import modin.pandas as mpd\n",
        "import ray\n",
        "import time"
      ],
      "metadata": {
        "colab": {
          "base_uri": "https://localhost:8080/"
        },
        "id": "EzRcsaBbGYIX",
        "outputId": "56bfcf10-b6dc-4eaa-a8ea-4a4b39820a81"
      },
      "execution_count": 5,
      "outputs": [
        {
          "output_type": "stream",
          "name": "stderr",
          "text": [
            "/usr/local/lib/python3.11/dist-packages/dask/dataframe/__init__.py:42: FutureWarning: \n",
            "Dask dataframe query planning is disabled because dask-expr is not installed.\n",
            "\n",
            "You can install it with `pip install dask[dataframe]` or `conda install dask`.\n",
            "This will raise in a future version.\n",
            "\n",
            "  warnings.warn(msg, FutureWarning)\n"
          ]
        }
      ]
    },
    {
      "cell_type": "markdown",
      "source": [
        "Using pandas to read the file"
      ],
      "metadata": {
        "id": "7di1HUPDakrc"
      }
    },
    {
      "cell_type": "code",
      "source": [
        "import pandas as pd\n",
        "import time\n",
        "\n",
        "file_path = \"/content/drive/My Drive/steam_reviews.csv\"\n",
        "\n",
        "start_time = time.time()\n",
        "df_pandas = pd.read_csv(file_path)\n",
        "pandas_time = time.time() - start_time\n",
        "\n",
        "print(f\"Pandas read time: {pandas_time:.2f} seconds\")"
      ],
      "metadata": {
        "id": "0cJ3dna7crA8"
      },
      "execution_count": null,
      "outputs": []
    },
    {
      "cell_type": "markdown",
      "source": [
        "Using dask to read the file"
      ],
      "metadata": {
        "id": "oDtq45syejqz"
      }
    },
    {
      "cell_type": "code",
      "source": [
        "import dask.dataframe as dd\n",
        "import time\n",
        "\n",
        "file_path = \"/content/drive/My Drive/steam_reviews.csv\"\n",
        "\n",
        "start_time = time.time()\n",
        "df_dask = dd.read_csv(file_path, blocksize=\"100MB\")  # Load in 100MB chunks\n",
        "end_time = time.time()\n",
        "\n",
        "print(f\"Dask Read Time: {end_time - start_time:.2f} seconds\")\n",
        "print(df_dask.head())  # ✅ Removed .compute()\n"
      ],
      "metadata": {
        "colab": {
          "base_uri": "https://localhost:8080/"
        },
        "id": "G22gjN-0e_cs",
        "outputId": "ab4d3f1b-3137-491a-c9d1-9083917f5c6a"
      },
      "execution_count": 6,
      "outputs": [
        {
          "output_type": "stream",
          "name": "stdout",
          "text": [
            "Dask Read Time: 0.78 seconds\n",
            "   Unnamed: 0  app_id                  app_name  review_id  language  \\\n",
            "0           0  292030  The Witcher 3: Wild Hunt   85185598  schinese   \n",
            "1           1  292030  The Witcher 3: Wild Hunt   85185250  schinese   \n",
            "2           2  292030  The Witcher 3: Wild Hunt   85185111  schinese   \n",
            "3           3  292030  The Witcher 3: Wild Hunt   85184605   english   \n",
            "4           4  292030  The Witcher 3: Wild Hunt   85184287  schinese   \n",
            "\n",
            "                                              review  timestamp_created  \\\n",
            "0                            不玩此生遗憾，RPG游戏里的天花板，太吸引人了         1611381629   \n",
            "1                                 拔DIAO无情打桩机--杰洛特!!!         1611381030   \n",
            "2                                              巫师3NB         1611380800   \n",
            "3  One of the best RPG's of all time, worthy of a...         1611379970   \n",
            "4                                                 大作         1611379427   \n",
            "\n",
            "   timestamp_updated  recommended  votes_helpful  ...  steam_purchase  \\\n",
            "0         1611381629         True              0  ...            True   \n",
            "1         1611381030         True              0  ...            True   \n",
            "2         1611380800         True              0  ...            True   \n",
            "3         1611379970         True              0  ...            True   \n",
            "4         1611379427         True              0  ...            True   \n",
            "\n",
            "   received_for_free  written_during_early_access     author.steamid  \\\n",
            "0              False                        False  76561199095369542   \n",
            "1              False                        False  76561198949504115   \n",
            "2              False                        False  76561199090098988   \n",
            "3              False                        False  76561199054755373   \n",
            "4              False                        False  76561199028326951   \n",
            "\n",
            "   author.num_games_owned  author.num_reviews  author.playtime_forever  \\\n",
            "0                       6                   2                   1909.0   \n",
            "1                      30                  10                   2764.0   \n",
            "2                       5                   1                   1061.0   \n",
            "3                       5                   3                   5587.0   \n",
            "4                       7                   4                    217.0   \n",
            "\n",
            "   author.playtime_last_two_weeks  author.playtime_at_review  \\\n",
            "0                          1448.0                     1909.0   \n",
            "1                          2743.0                     2674.0   \n",
            "2                          1061.0                     1060.0   \n",
            "3                          3200.0                     5524.0   \n",
            "4                            42.0                      217.0   \n",
            "\n",
            "   author.last_played  \n",
            "0        1.611343e+09  \n",
            "1        1.611386e+09  \n",
            "2        1.611384e+09  \n",
            "3        1.611384e+09  \n",
            "4        1.610788e+09  \n",
            "\n",
            "[5 rows x 23 columns]\n"
          ]
        }
      ]
    },
    {
      "cell_type": "markdown",
      "source": [
        "Using modin to read the file"
      ],
      "metadata": {
        "id": "XNguhaPQgpx_"
      }
    },
    {
      "cell_type": "code",
      "source": [
        "import os\n",
        "import ray\n",
        "import modin.pandas as mpd\n",
        "import time\n",
        "\n",
        "\n",
        "os.environ[\"MODIN_MEMORY\"] = \"4000000000\"\n",
        "\n",
        "ray.init(ignore_reinit_error=True)\n",
        "\n",
        "file_path = \"/content/drive/My Drive/steam_reviews.csv\"\n",
        "\n",
        "start_time = time.time()\n",
        "\n",
        "df_modin = mpd.read_csv(file_path, nrows=500000)\n",
        "\n",
        "end_time = time.time()\n",
        "\n",
        "print(f\"Modin Read Time: {end_time - start_time:.2f} seconds\")\n",
        "print(df_modin.head())\n"
      ],
      "metadata": {
        "colab": {
          "base_uri": "https://localhost:8080/"
        },
        "id": "1C14d1oygrrL",
        "outputId": "74dcf317-3004-468d-923a-8cd8a7ead26d"
      },
      "execution_count": 7,
      "outputs": [
        {
          "output_type": "stream",
          "name": "stderr",
          "text": [
            "2025-02-05 18:54:18,413\tINFO worker.py:1841 -- Started a local Ray instance.\n"
          ]
        },
        {
          "output_type": "stream",
          "name": "stdout",
          "text": [
            "Modin Read Time: 13.17 seconds\n",
            "   Unnamed: 0  app_id                  app_name  review_id  language  \\\n",
            "0           0  292030  The Witcher 3: Wild Hunt   85185598  schinese   \n",
            "1           1  292030  The Witcher 3: Wild Hunt   85185250  schinese   \n",
            "2           2  292030  The Witcher 3: Wild Hunt   85185111  schinese   \n",
            "3           3  292030  The Witcher 3: Wild Hunt   85184605   english   \n",
            "4           4  292030  The Witcher 3: Wild Hunt   85184287  schinese   \n",
            "\n",
            "                                              review  timestamp_created  \\\n",
            "0                            不玩此生遗憾，RPG游戏里的天花板，太吸引人了         1611381629   \n",
            "1                                 拔DIAO无情打桩机--杰洛特!!!         1611381030   \n",
            "2                                              巫师3NB         1611380800   \n",
            "3  One of the best RPG's of all time, worthy of a...         1611379970   \n",
            "4                                                 大作         1611379427   \n",
            "\n",
            "   timestamp_updated  recommended  votes_helpful  ...  steam_purchase  \\\n",
            "0         1611381629         True              0  ...            True   \n",
            "1         1611381030         True              0  ...            True   \n",
            "2         1611380800         True              0  ...            True   \n",
            "3         1611379970         True              0  ...            True   \n",
            "4         1611379427         True              0  ...            True   \n",
            "\n",
            "   received_for_free  written_during_early_access     author.steamid  \\\n",
            "0              False                        False  76561199095369542   \n",
            "1              False                        False  76561198949504115   \n",
            "2              False                        False  76561199090098988   \n",
            "3              False                        False  76561199054755373   \n",
            "4              False                        False  76561199028326951   \n",
            "\n",
            "   author.num_games_owned  author.num_reviews  author.playtime_forever  \\\n",
            "0                       6                   2                   1909.0   \n",
            "1                      30                  10                   2764.0   \n",
            "2                       5                   1                   1061.0   \n",
            "3                       5                   3                   5587.0   \n",
            "4                       7                   4                    217.0   \n",
            "\n",
            "   author.playtime_last_two_weeks  author.playtime_at_review  \\\n",
            "0                          1448.0                     1909.0   \n",
            "1                          2743.0                     2674.0   \n",
            "2                          1061.0                     1060.0   \n",
            "3                          3200.0                     5524.0   \n",
            "4                            42.0                      217.0   \n",
            "\n",
            "   author.last_played  \n",
            "0        1.611343e+09  \n",
            "1        1.611386e+09  \n",
            "2        1.611384e+09  \n",
            "3        1.611384e+09  \n",
            "4        1.610788e+09  \n",
            "\n",
            "[5 rows x 23 columns]\n"
          ]
        }
      ]
    },
    {
      "cell_type": "markdown",
      "source": [
        "Using ray to read the file"
      ],
      "metadata": {
        "id": "aJ00qbkAhEXk"
      }
    },
    {
      "cell_type": "code",
      "source": [
        "import ray\n",
        "import time\n",
        "\n",
        "if not ray.is_initialized():\n",
        "    ray.init(ignore_reinit_error=True)\n",
        "\n",
        "start_time = time.time()\n",
        "df_ray = ray.data.read_csv(\"/content/drive/My Drive/steam_reviews.csv\")\n",
        "end_time = time.time()\n",
        "\n",
        "print(f\"Ray Read Time: {end_time - start_time:.2f} seconds\")\n",
        "print(df_ray.schema())  # Show detected schema\n"
      ],
      "metadata": {
        "colab": {
          "base_uri": "https://localhost:8080/",
          "height": 1000,
          "referenced_widgets": [
            "e83ec5329e084da6947adb6c64bba16f",
            "c4909a967164466eba56002d553b9311",
            "115b2de2cea144fb9ef97283da086814",
            "3efd71793362482cae36bebd576f3ee6",
            "307d9e93493d4c418d12a79dbd81f821",
            "c2179b10b50a4948884fe932eb72e19f",
            "8e979d76dd25459b869147bde563922a",
            "ee72813d7a7842e19d96e51e5f81c74d",
            "f8bae8098b2540f4b2f2eb05c0d05645",
            "1f210a5f9b4e4519b6f3410dcab48f02",
            "709e3d64dad0461d9fc7166382c84e39",
            "9bb6817de42d4a1992fe89f454359791",
            "f613a743957c4e2ba3daf6073f2c7c2d",
            "7b1e18b643494ae18557a813fd675074",
            "2eedeb139c7643a5bb6a408bb543304f",
            "12a681455c984c2c89573b430898ce75",
            "ccc8e1d1c4da4d3789ff6cf83e4c858e",
            "201ff780603745a79100439d62963f22",
            "1e594fb5ed0a4cf7b38782f0429e6714",
            "28015923ee564edba1205896c9f38065",
            "5d7169e6fedc4ac78eb6f23113e4e99c",
            "51591db13cc94b03b246043a6a62c989"
          ]
        },
        "id": "qaEJWBkAhb1X",
        "outputId": "893abe9b-6c5f-4167-e245-bd3d2dbd8023"
      },
      "execution_count": 8,
      "outputs": [
        {
          "output_type": "stream",
          "name": "stderr",
          "text": [
            "2025-02-05 18:54:47,361\tINFO streaming_executor.py:108 -- Starting execution of Dataset. Full logs are in /tmp/ray/session_2025-02-05_18-54-09_729010_1289/logs/ray-data\n",
            "2025-02-05 18:54:47,364\tINFO streaming_executor.py:109 -- Execution plan of Dataset: InputDataBuffer[Input] -> TaskPoolMapOperator[ReadCSV]\n"
          ]
        },
        {
          "output_type": "stream",
          "name": "stdout",
          "text": [
            "Ray Read Time: 2.10 seconds\n"
          ]
        },
        {
          "output_type": "display_data",
          "data": {
            "text/plain": [
              "Running 0: 0.00 row [00:00, ? row/s]"
            ],
            "application/vnd.jupyter.widget-view+json": {
              "version_major": 2,
              "version_minor": 0,
              "model_id": "e83ec5329e084da6947adb6c64bba16f"
            }
          },
          "metadata": {}
        },
        {
          "output_type": "display_data",
          "data": {
            "text/plain": [
              "- ReadCSV->SplitBlocks(4) 1: 0.00 row [00:00, ? row/s]"
            ],
            "application/vnd.jupyter.widget-view+json": {
              "version_major": 2,
              "version_minor": 0,
              "model_id": "9bb6817de42d4a1992fe89f454359791"
            }
          },
          "metadata": {}
        },
        {
          "output_type": "stream",
          "name": "stderr",
          "text": [
            "2025-02-05 18:54:48,300\tERROR streaming_executor_state.py:485 -- An exception was raised from a task of operator \"ReadCSV->SplitBlocks(4)\". Dataset execution will now abort. To ignore this exception and continue, set DataContext.max_errored_blocks.\n",
            "2025-02-05 18:54:48,393\tERROR exceptions.py:73 -- Exception occurred in Ray Data or Ray Core internal code. If you continue to see this error, please open an issue on the Ray project GitHub page with the full stack trace below: https://github.com/ray-project/ray/issues/new/choose\n",
            "2025-02-05 18:54:48,398\tERROR exceptions.py:81 -- Full stack trace:\n",
            "Traceback (most recent call last):\n",
            "  File \"/usr/local/lib/python3.11/dist-packages/ray/data/exceptions.py\", line 49, in handle_trace\n",
            "    return fn(*args, **kwargs)\n",
            "           ^^^^^^^^^^^^^^^^^^^\n",
            "  File \"/usr/local/lib/python3.11/dist-packages/ray/data/_internal/plan.py\", line 429, in execute_to_iterator\n",
            "    bundle_iter = itertools.chain([next(gen)], gen)\n",
            "                                   ^^^^^^^^^\n",
            "  File \"/usr/local/lib/python3.11/dist-packages/ray/data/_internal/execution/interfaces/executor.py\", line 37, in __next__\n",
            "    return self.get_next()\n",
            "           ^^^^^^^^^^^^^^^\n",
            "  File \"/usr/local/lib/python3.11/dist-packages/ray/data/_internal/execution/legacy_compat.py\", line 76, in get_next\n",
            "    bundle = self._base_iterator.get_next(output_split_idx)\n",
            "             ^^^^^^^^^^^^^^^^^^^^^^^^^^^^^^^^^^^^^^^^^^^^^^\n",
            "  File \"/usr/local/lib/python3.11/dist-packages/ray/data/_internal/execution/streaming_executor.py\", line 157, in get_next\n",
            "    item = self._outer._output_node.get_output_blocking(\n",
            "           ^^^^^^^^^^^^^^^^^^^^^^^^^^^^^^^^^^^^^^^^^^^^^\n",
            "  File \"/usr/local/lib/python3.11/dist-packages/ray/data/_internal/execution/streaming_executor_state.py\", line 312, in get_output_blocking\n",
            "    raise self._exception\n",
            "  File \"/usr/local/lib/python3.11/dist-packages/ray/data/_internal/execution/streaming_executor.py\", line 233, in run\n",
            "    continue_sched = self._scheduling_loop_step(self._topology)\n",
            "                     ^^^^^^^^^^^^^^^^^^^^^^^^^^^^^^^^^^^^^^^^^^\n",
            "  File \"/usr/local/lib/python3.11/dist-packages/ray/data/_internal/execution/streaming_executor.py\", line 292, in _scheduling_loop_step\n",
            "    num_errored_blocks = process_completed_tasks(\n",
            "                         ^^^^^^^^^^^^^^^^^^^^^^^^\n",
            "  File \"/usr/local/lib/python3.11/dist-packages/ray/data/_internal/execution/streaming_executor_state.py\", line 486, in process_completed_tasks\n",
            "    raise e from None\n",
            "  File \"/usr/local/lib/python3.11/dist-packages/ray/data/_internal/execution/streaming_executor_state.py\", line 453, in process_completed_tasks\n",
            "    bytes_read = task.on_data_ready(\n",
            "                 ^^^^^^^^^^^^^^^^^^^\n",
            "  File \"/usr/local/lib/python3.11/dist-packages/ray/data/_internal/execution/interfaces/physical_operator.py\", line 105, in on_data_ready\n",
            "    raise ex from None\n",
            "  File \"/usr/local/lib/python3.11/dist-packages/ray/data/_internal/execution/interfaces/physical_operator.py\", line 101, in on_data_ready\n",
            "    ray.get(block_ref)\n",
            "  File \"/usr/local/lib/python3.11/dist-packages/ray/_private/auto_init_hook.py\", line 21, in auto_init_wrapper\n",
            "    return fn(*args, **kwargs)\n",
            "           ^^^^^^^^^^^^^^^^^^^\n",
            "  File \"/usr/local/lib/python3.11/dist-packages/ray/_private/client_mode_hook.py\", line 103, in wrapper\n",
            "    return func(*args, **kwargs)\n",
            "           ^^^^^^^^^^^^^^^^^^^^^\n",
            "  File \"/usr/local/lib/python3.11/dist-packages/ray/_private/worker.py\", line 2772, in get\n",
            "    values, debugger_breakpoint = worker.get_objects(object_refs, timeout=timeout)\n",
            "                                  ^^^^^^^^^^^^^^^^^^^^^^^^^^^^^^^^^^^^^^^^^^^^^^^^\n",
            "  File \"/usr/local/lib/python3.11/dist-packages/ray/_private/worker.py\", line 919, in get_objects\n",
            "    raise value.as_instanceof_cause()\n",
            "ray.exceptions.RayTaskError(ValueError): \u001b[36mray::ReadCSV->SplitBlocks(4)()\u001b[39m (pid=2367, ip=172.28.0.12)\n",
            "            ^^^^^^^^^^^^^^^^^^^^^^^^\n",
            "  File \"pyarrow/ipc.pxi\", line 705, in pyarrow.lib.RecordBatchReader.read_next_batch\n",
            "  File \"pyarrow/error.pxi\", line 92, in pyarrow.lib.check_status\n",
            "pyarrow.lib.ArrowInvalid: CSV parser got out of sync with chunker. This can mean the data file contains cell values spanning multiple lines; please consider enabling the option 'newlines_in_values'.\n",
            "\n",
            "The above exception was the direct cause of the following exception:\n",
            "\n",
            "\u001b[36mray::ReadCSV->SplitBlocks(4)()\u001b[39m (pid=2367, ip=172.28.0.12)\n",
            "  File \"/usr/local/lib/python3.11/dist-packages/ray/data/_internal/execution/operators/map_operator.py\", line 507, in _map_task\n",
            "    for b_out in map_transformer.apply_transform(iter(blocks), ctx):\n",
            "  File \"/usr/local/lib/python3.11/dist-packages/ray/data/_internal/execution/operators/map_transformer.py\", line 451, in __call__\n",
            "    for block in blocks:\n",
            "  File \"/usr/local/lib/python3.11/dist-packages/ray/data/_internal/execution/operators/map_transformer.py\", line 392, in __call__\n",
            "    for data in iter:\n",
            "  File \"/usr/local/lib/python3.11/dist-packages/ray/data/_internal/execution/operators/map_transformer.py\", line 253, in __call__\n",
            "    yield from self._block_fn(input, ctx)\n",
            "  File \"/usr/local/lib/python3.11/dist-packages/ray/data/_internal/planner/plan_read_op.py\", line 106, in do_read\n",
            "    yield from read_task()\n",
            "  File \"/usr/local/lib/python3.11/dist-packages/ray/data/datasource/datasource.py\", line 168, in __call__\n",
            "    yield from result\n",
            "  File \"/usr/local/lib/python3.11/dist-packages/ray/data/datasource/file_based_datasource.py\", line 293, in read_task_fn\n",
            "    yield from read_files(read_paths)\n",
            "  File \"/usr/local/lib/python3.11/dist-packages/ray/data/datasource/file_based_datasource.py\", line 259, in read_files\n",
            "    for block in read_stream(f, read_path):\n",
            "  File \"/usr/local/lib/python3.11/dist-packages/ray/data/_internal/datasource/csv_datasource.py\", line 68, in _read_stream\n",
            "    raise ValueError(\n",
            "ValueError: Failed to read CSV file: /content/drive/My Drive/steam_reviews.csv. Please check the CSV file has correct format, or filter out non-CSV file with 'partition_filter' field. See read_csv() documentation for more details.\n"
          ]
        },
        {
          "output_type": "error",
          "ename": "RayTaskError(ValueError)",
          "evalue": "\u001b[36mray::ReadCSV->SplitBlocks(4)()\u001b[39m (pid=2367, ip=172.28.0.12)\n            ^^^^^^^^^^^^^^^^^^^^^^^^\n  File \"pyarrow/ipc.pxi\", line 705, in pyarrow.lib.RecordBatchReader.read_next_batch\n  File \"pyarrow/error.pxi\", line 92, in pyarrow.lib.check_status\npyarrow.lib.ArrowInvalid: CSV parser got out of sync with chunker. This can mean the data file contains cell values spanning multiple lines; please consider enabling the option 'newlines_in_values'.\n\nThe above exception was the direct cause of the following exception:\n\n\u001b[36mray::ReadCSV->SplitBlocks(4)()\u001b[39m (pid=2367, ip=172.28.0.12)\n  File \"/usr/local/lib/python3.11/dist-packages/ray/data/_internal/execution/operators/map_operator.py\", line 507, in _map_task\n    for b_out in map_transformer.apply_transform(iter(blocks), ctx):\n  File \"/usr/local/lib/python3.11/dist-packages/ray/data/_internal/execution/operators/map_transformer.py\", line 451, in __call__\n    for block in blocks:\n  File \"/usr/local/lib/python3.11/dist-packages/ray/data/_internal/execution/operators/map_transformer.py\", line 392, in __call__\n    for data in iter:\n  File \"/usr/local/lib/python3.11/dist-packages/ray/data/_internal/execution/operators/map_transformer.py\", line 253, in __call__\n    yield from self._block_fn(input, ctx)\n  File \"/usr/local/lib/python3.11/dist-packages/ray/data/_internal/planner/plan_read_op.py\", line 106, in do_read\n    yield from read_task()\n  File \"/usr/local/lib/python3.11/dist-packages/ray/data/datasource/datasource.py\", line 168, in __call__\n    yield from result\n  File \"/usr/local/lib/python3.11/dist-packages/ray/data/datasource/file_based_datasource.py\", line 293, in read_task_fn\n    yield from read_files(read_paths)\n  File \"/usr/local/lib/python3.11/dist-packages/ray/data/datasource/file_based_datasource.py\", line 259, in read_files\n    for block in read_stream(f, read_path):\n  File \"/usr/local/lib/python3.11/dist-packages/ray/data/_internal/datasource/csv_datasource.py\", line 68, in _read_stream\n    raise ValueError(\nValueError: Failed to read CSV file: /content/drive/My Drive/steam_reviews.csv. Please check the CSV file has correct format, or filter out non-CSV file with 'partition_filter' field. See read_csv() documentation for more details.",
          "traceback": [
            "\u001b[0;31m---------------------------------------------------------------------------\u001b[0m",
            "\u001b[0;31mSystemException\u001b[0m                           Traceback (most recent call last)",
            "\u001b[0;31mSystemException\u001b[0m: ",
            "\nThe above exception was the direct cause of the following exception:\n",
            "\u001b[0;31mRayTaskError(ValueError)\u001b[0m                  Traceback (most recent call last)",
            "\u001b[0;32m<ipython-input-8-86b0931857bd>\u001b[0m in \u001b[0;36m<cell line: 0>\u001b[0;34m()\u001b[0m\n\u001b[1;32m     10\u001b[0m \u001b[0;34m\u001b[0m\u001b[0m\n\u001b[1;32m     11\u001b[0m \u001b[0mprint\u001b[0m\u001b[0;34m(\u001b[0m\u001b[0;34mf\"Ray Read Time: {end_time - start_time:.2f} seconds\"\u001b[0m\u001b[0;34m)\u001b[0m\u001b[0;34m\u001b[0m\u001b[0;34m\u001b[0m\u001b[0m\n\u001b[0;32m---> 12\u001b[0;31m \u001b[0mprint\u001b[0m\u001b[0;34m(\u001b[0m\u001b[0mdf_ray\u001b[0m\u001b[0;34m.\u001b[0m\u001b[0mschema\u001b[0m\u001b[0;34m(\u001b[0m\u001b[0;34m)\u001b[0m\u001b[0;34m)\u001b[0m  \u001b[0;31m# Show detected schema\u001b[0m\u001b[0;34m\u001b[0m\u001b[0;34m\u001b[0m\u001b[0m\n\u001b[0m",
            "\u001b[0;32m/usr/local/lib/python3.11/dist-packages/ray/data/dataset.py\u001b[0m in \u001b[0;36mschema\u001b[0;34m(self, fetch_if_missing)\u001b[0m\n\u001b[1;32m   2870\u001b[0m \u001b[0;34m\u001b[0m\u001b[0m\n\u001b[1;32m   2871\u001b[0m         \u001b[0;31m# First check if the schema is already known from materialized blocks.\u001b[0m\u001b[0;34m\u001b[0m\u001b[0;34m\u001b[0m\u001b[0m\n\u001b[0;32m-> 2872\u001b[0;31m         \u001b[0mbase_schema\u001b[0m \u001b[0;34m=\u001b[0m \u001b[0mself\u001b[0m\u001b[0;34m.\u001b[0m\u001b[0m_plan\u001b[0m\u001b[0;34m.\u001b[0m\u001b[0mschema\u001b[0m\u001b[0;34m(\u001b[0m\u001b[0mfetch_if_missing\u001b[0m\u001b[0;34m=\u001b[0m\u001b[0;32mFalse\u001b[0m\u001b[0;34m)\u001b[0m\u001b[0;34m\u001b[0m\u001b[0;34m\u001b[0m\u001b[0m\n\u001b[0m\u001b[1;32m   2873\u001b[0m         \u001b[0;32mif\u001b[0m \u001b[0mbase_schema\u001b[0m \u001b[0;32mis\u001b[0m \u001b[0;32mnot\u001b[0m \u001b[0;32mNone\u001b[0m\u001b[0;34m:\u001b[0m\u001b[0;34m\u001b[0m\u001b[0;34m\u001b[0m\u001b[0m\n\u001b[1;32m   2874\u001b[0m             \u001b[0;32mreturn\u001b[0m \u001b[0mSchema\u001b[0m\u001b[0;34m(\u001b[0m\u001b[0mbase_schema\u001b[0m\u001b[0;34m,\u001b[0m \u001b[0mdata_context\u001b[0m\u001b[0;34m=\u001b[0m\u001b[0mcontext\u001b[0m\u001b[0;34m)\u001b[0m\u001b[0;34m\u001b[0m\u001b[0;34m\u001b[0m\u001b[0m\n",
            "\u001b[0;32m/usr/local/lib/python3.11/dist-packages/ray/data/_internal/plan.py\u001b[0m in \u001b[0;36mschema\u001b[0;34m(self, fetch_if_missing)\u001b[0m\n\u001b[1;32m    359\u001b[0m             \u001b[0;31m# For consistency with the previous implementation, we fetch the schema if\u001b[0m\u001b[0;34m\u001b[0m\u001b[0;34m\u001b[0m\u001b[0m\n\u001b[1;32m    360\u001b[0m             \u001b[0;31m# the plan is read-only even if `fetch_if_missing` is False.\u001b[0m\u001b[0;34m\u001b[0m\u001b[0;34m\u001b[0m\u001b[0m\n\u001b[0;32m--> 361\u001b[0;31m             \u001b[0miter_ref_bundles\u001b[0m\u001b[0;34m,\u001b[0m \u001b[0m_\u001b[0m\u001b[0;34m,\u001b[0m \u001b[0m_\u001b[0m \u001b[0;34m=\u001b[0m \u001b[0mself\u001b[0m\u001b[0;34m.\u001b[0m\u001b[0mexecute_to_iterator\u001b[0m\u001b[0;34m(\u001b[0m\u001b[0;34m)\u001b[0m\u001b[0;34m\u001b[0m\u001b[0;34m\u001b[0m\u001b[0m\n\u001b[0m\u001b[1;32m    362\u001b[0m             \u001b[0;32mtry\u001b[0m\u001b[0;34m:\u001b[0m\u001b[0;34m\u001b[0m\u001b[0;34m\u001b[0m\u001b[0m\n\u001b[1;32m    363\u001b[0m                 \u001b[0mref_bundle\u001b[0m \u001b[0;34m=\u001b[0m \u001b[0mnext\u001b[0m\u001b[0;34m(\u001b[0m\u001b[0miter\u001b[0m\u001b[0;34m(\u001b[0m\u001b[0miter_ref_bundles\u001b[0m\u001b[0;34m)\u001b[0m\u001b[0;34m)\u001b[0m\u001b[0;34m\u001b[0m\u001b[0;34m\u001b[0m\u001b[0m\n",
            "\u001b[0;32m/usr/local/lib/python3.11/dist-packages/ray/data/exceptions.py\u001b[0m in \u001b[0;36mhandle_trace\u001b[0;34m(*args, **kwargs)\u001b[0m\n\u001b[1;32m     87\u001b[0m                 \u001b[0;32mraise\u001b[0m \u001b[0me\u001b[0m\u001b[0;34m.\u001b[0m\u001b[0mwith_traceback\u001b[0m\u001b[0;34m(\u001b[0m\u001b[0;32mNone\u001b[0m\u001b[0;34m)\u001b[0m\u001b[0;34m\u001b[0m\u001b[0;34m\u001b[0m\u001b[0m\n\u001b[1;32m     88\u001b[0m             \u001b[0;32melse\u001b[0m\u001b[0;34m:\u001b[0m\u001b[0;34m\u001b[0m\u001b[0;34m\u001b[0m\u001b[0m\n\u001b[0;32m---> 89\u001b[0;31m                 \u001b[0;32mraise\u001b[0m \u001b[0me\u001b[0m\u001b[0;34m.\u001b[0m\u001b[0mwith_traceback\u001b[0m\u001b[0;34m(\u001b[0m\u001b[0;32mNone\u001b[0m\u001b[0;34m)\u001b[0m \u001b[0;32mfrom\u001b[0m \u001b[0mSystemException\u001b[0m\u001b[0;34m(\u001b[0m\u001b[0;34m)\u001b[0m\u001b[0;34m\u001b[0m\u001b[0;34m\u001b[0m\u001b[0m\n\u001b[0m\u001b[1;32m     90\u001b[0m \u001b[0;34m\u001b[0m\u001b[0m\n\u001b[1;32m     91\u001b[0m     \u001b[0;32mreturn\u001b[0m \u001b[0mhandle_trace\u001b[0m\u001b[0;34m\u001b[0m\u001b[0;34m\u001b[0m\u001b[0m\n",
            "\u001b[0;31mRayTaskError(ValueError)\u001b[0m: \u001b[36mray::ReadCSV->SplitBlocks(4)()\u001b[39m (pid=2367, ip=172.28.0.12)\n            ^^^^^^^^^^^^^^^^^^^^^^^^\n  File \"pyarrow/ipc.pxi\", line 705, in pyarrow.lib.RecordBatchReader.read_next_batch\n  File \"pyarrow/error.pxi\", line 92, in pyarrow.lib.check_status\npyarrow.lib.ArrowInvalid: CSV parser got out of sync with chunker. This can mean the data file contains cell values spanning multiple lines; please consider enabling the option 'newlines_in_values'.\n\nThe above exception was the direct cause of the following exception:\n\n\u001b[36mray::ReadCSV->SplitBlocks(4)()\u001b[39m (pid=2367, ip=172.28.0.12)\n  File \"/usr/local/lib/python3.11/dist-packages/ray/data/_internal/execution/operators/map_operator.py\", line 507, in _map_task\n    for b_out in map_transformer.apply_transform(iter(blocks), ctx):\n  File \"/usr/local/lib/python3.11/dist-packages/ray/data/_internal/execution/operators/map_transformer.py\", line 451, in __call__\n    for block in blocks:\n  File \"/usr/local/lib/python3.11/dist-packages/ray/data/_internal/execution/operators/map_transformer.py\", line 392, in __call__\n    for data in iter:\n  File \"/usr/local/lib/python3.11/dist-packages/ray/data/_internal/execution/operators/map_transformer.py\", line 253, in __call__\n    yield from self._block_fn(input, ctx)\n  File \"/usr/local/lib/python3.11/dist-packages/ray/data/_internal/planner/plan_read_op.py\", line 106, in do_read\n    yield from read_task()\n  File \"/usr/local/lib/python3.11/dist-packages/ray/data/datasource/datasource.py\", line 168, in __call__\n    yield from result\n  File \"/usr/local/lib/python3.11/dist-packages/ray/data/datasource/file_based_datasource.py\", line 293, in read_task_fn\n    yield from read_files(read_paths)\n  File \"/usr/local/lib/python3.11/dist-packages/ray/data/datasource/file_based_datasource.py\", line 259, in read_files\n    for block in read_stream(f, read_path):\n  File \"/usr/local/lib/python3.11/dist-packages/ray/data/_internal/datasource/csv_datasource.py\", line 68, in _read_stream\n    raise ValueError(\nValueError: Failed to read CSV file: /content/drive/My Drive/steam_reviews.csv. Please check the CSV file has correct format, or filter out non-CSV file with 'partition_filter' field. See read_csv() documentation for more details."
          ]
        }
      ]
    },
    {
      "cell_type": "code",
      "source": [
        "import pandas as pd\n",
        "\n",
        "pandas_time = \"Crashed\"\n",
        "dask_time = 0.78\n",
        "modin_time = 13.17\n",
        "ray_time = 2.1\n",
        "\n",
        "# Create a Pandas DataFrame for clear presentation\n",
        "df_results = pd.DataFrame({\n",
        "    \"Method\": [\"Pandas\", \"Dask\", \"Modin\", \"Ray\"],\n",
        "    \"Read Time (sec)\": [pandas_time, dask_time, modin_time, ray_time],\n",
        "    \"Memory Usage\": [\"High\", \"Low\", \"Medium\", \"Low\"],\n",
        "    \"Handles Large Files?\": [\"No\", \"Yes\", \"No\", \"Yes\"],\n",
        "    \"Notes\": [\n",
        "        \"Crashed due to memory limit\",\n",
        "        \"Best choice, handles chunks\",\n",
        "        \"Faster than Pandas but consumes lot of memory, not stable in colab\",\n",
        "        \"Best for extremely large datasets. Requires more setup, may not be necessary for 3GB files.g\"\n",
        "    ]\n",
        "})\n",
        "\n",
        "print(df_results)\n"
      ],
      "metadata": {
        "colab": {
          "base_uri": "https://localhost:8080/"
        },
        "id": "6SM6HzvRd3-l",
        "outputId": "d9dee2c8-e5e8-4f7a-b937-8cd6bf1ed8be"
      },
      "execution_count": 13,
      "outputs": [
        {
          "output_type": "stream",
          "name": "stdout",
          "text": [
            "   Method Read Time (sec) Memory Usage Handles Large Files?  \\\n",
            "0  Pandas         Crashed         High                   No   \n",
            "1    Dask            0.78          Low                  Yes   \n",
            "2   Modin           13.17       Medium                   No   \n",
            "3     Ray             2.1          Low                  Yes   \n",
            "\n",
            "                                               Notes  \n",
            "0                        Crashed due to memory limit  \n",
            "1                        Best choice, handles chunks  \n",
            "2  Faster than Pandas but consumes lot of memory,...  \n",
            "3  Best for extremely large datasets. Requires mo...  \n"
          ]
        }
      ]
    },
    {
      "cell_type": "code",
      "source": [
        "import dask.dataframe as dd\n",
        "\n",
        "df_dask = dd.read_csv(file_path, blocksize=\"100MB\")\n",
        "\n",
        "def clean_column_names(df):\n",
        "    df.columns = df.columns.str.replace(r'[^a-zA-Z0-9_]', '', regex=True)  # Remove special characters\n",
        "    df.columns = df.columns.str.strip()  # Remove spaces\n",
        "    return df\n",
        "\n",
        "df_dask = clean_column_names(df_dask)\n",
        "\n",
        "df_dask.head()\n",
        "\n",
        "\n"
      ],
      "metadata": {
        "colab": {
          "base_uri": "https://localhost:8080/",
          "height": 706
        },
        "id": "FdiuK4OJhqIN",
        "outputId": "86db8c88-fdf0-4937-ea4a-aba16ede9d53"
      },
      "execution_count": 18,
      "outputs": [
        {
          "output_type": "execute_result",
          "data": {
            "text/plain": [
              "   Unnamed0  app_id                  app_name  review_id  language  \\\n",
              "0         0  292030  The Witcher 3: Wild Hunt   85185598  schinese   \n",
              "1         1  292030  The Witcher 3: Wild Hunt   85185250  schinese   \n",
              "2         2  292030  The Witcher 3: Wild Hunt   85185111  schinese   \n",
              "3         3  292030  The Witcher 3: Wild Hunt   85184605   english   \n",
              "4         4  292030  The Witcher 3: Wild Hunt   85184287  schinese   \n",
              "\n",
              "                                              review  timestamp_created  \\\n",
              "0                            不玩此生遗憾，RPG游戏里的天花板，太吸引人了         1611381629   \n",
              "1                                 拔DIAO无情打桩机--杰洛特!!!         1611381030   \n",
              "2                                              巫师3NB         1611380800   \n",
              "3  One of the best RPG's of all time, worthy of a...         1611379970   \n",
              "4                                                 大作         1611379427   \n",
              "\n",
              "   timestamp_updated  recommended  votes_helpful  ...  steam_purchase  \\\n",
              "0         1611381629         True              0  ...            True   \n",
              "1         1611381030         True              0  ...            True   \n",
              "2         1611380800         True              0  ...            True   \n",
              "3         1611379970         True              0  ...            True   \n",
              "4         1611379427         True              0  ...            True   \n",
              "\n",
              "   received_for_free  written_during_early_access      authorsteamid  \\\n",
              "0              False                        False  76561199095369542   \n",
              "1              False                        False  76561198949504115   \n",
              "2              False                        False  76561199090098988   \n",
              "3              False                        False  76561199054755373   \n",
              "4              False                        False  76561199028326951   \n",
              "\n",
              "   authornum_games_owned  authornum_reviews  authorplaytime_forever  \\\n",
              "0                      6                  2                  1909.0   \n",
              "1                     30                 10                  2764.0   \n",
              "2                      5                  1                  1061.0   \n",
              "3                      5                  3                  5587.0   \n",
              "4                      7                  4                   217.0   \n",
              "\n",
              "   authorplaytime_last_two_weeks  authorplaytime_at_review  authorlast_played  \n",
              "0                         1448.0                    1909.0       1.611343e+09  \n",
              "1                         2743.0                    2674.0       1.611386e+09  \n",
              "2                         1061.0                    1060.0       1.611384e+09  \n",
              "3                         3200.0                    5524.0       1.611384e+09  \n",
              "4                           42.0                     217.0       1.610788e+09  \n",
              "\n",
              "[5 rows x 23 columns]"
            ],
            "text/html": [
              "\n",
              "  <div id=\"df-acf41227-670b-42a8-afce-128cc0ba565c\" class=\"colab-df-container\">\n",
              "    <div>\n",
              "<style scoped>\n",
              "    .dataframe tbody tr th:only-of-type {\n",
              "        vertical-align: middle;\n",
              "    }\n",
              "\n",
              "    .dataframe tbody tr th {\n",
              "        vertical-align: top;\n",
              "    }\n",
              "\n",
              "    .dataframe thead th {\n",
              "        text-align: right;\n",
              "    }\n",
              "</style>\n",
              "<table border=\"1\" class=\"dataframe\">\n",
              "  <thead>\n",
              "    <tr style=\"text-align: right;\">\n",
              "      <th></th>\n",
              "      <th>Unnamed0</th>\n",
              "      <th>app_id</th>\n",
              "      <th>app_name</th>\n",
              "      <th>review_id</th>\n",
              "      <th>language</th>\n",
              "      <th>review</th>\n",
              "      <th>timestamp_created</th>\n",
              "      <th>timestamp_updated</th>\n",
              "      <th>recommended</th>\n",
              "      <th>votes_helpful</th>\n",
              "      <th>...</th>\n",
              "      <th>steam_purchase</th>\n",
              "      <th>received_for_free</th>\n",
              "      <th>written_during_early_access</th>\n",
              "      <th>authorsteamid</th>\n",
              "      <th>authornum_games_owned</th>\n",
              "      <th>authornum_reviews</th>\n",
              "      <th>authorplaytime_forever</th>\n",
              "      <th>authorplaytime_last_two_weeks</th>\n",
              "      <th>authorplaytime_at_review</th>\n",
              "      <th>authorlast_played</th>\n",
              "    </tr>\n",
              "  </thead>\n",
              "  <tbody>\n",
              "    <tr>\n",
              "      <th>0</th>\n",
              "      <td>0</td>\n",
              "      <td>292030</td>\n",
              "      <td>The Witcher 3: Wild Hunt</td>\n",
              "      <td>85185598</td>\n",
              "      <td>schinese</td>\n",
              "      <td>不玩此生遗憾，RPG游戏里的天花板，太吸引人了</td>\n",
              "      <td>1611381629</td>\n",
              "      <td>1611381629</td>\n",
              "      <td>True</td>\n",
              "      <td>0</td>\n",
              "      <td>...</td>\n",
              "      <td>True</td>\n",
              "      <td>False</td>\n",
              "      <td>False</td>\n",
              "      <td>76561199095369542</td>\n",
              "      <td>6</td>\n",
              "      <td>2</td>\n",
              "      <td>1909.0</td>\n",
              "      <td>1448.0</td>\n",
              "      <td>1909.0</td>\n",
              "      <td>1.611343e+09</td>\n",
              "    </tr>\n",
              "    <tr>\n",
              "      <th>1</th>\n",
              "      <td>1</td>\n",
              "      <td>292030</td>\n",
              "      <td>The Witcher 3: Wild Hunt</td>\n",
              "      <td>85185250</td>\n",
              "      <td>schinese</td>\n",
              "      <td>拔DIAO无情打桩机--杰洛特!!!</td>\n",
              "      <td>1611381030</td>\n",
              "      <td>1611381030</td>\n",
              "      <td>True</td>\n",
              "      <td>0</td>\n",
              "      <td>...</td>\n",
              "      <td>True</td>\n",
              "      <td>False</td>\n",
              "      <td>False</td>\n",
              "      <td>76561198949504115</td>\n",
              "      <td>30</td>\n",
              "      <td>10</td>\n",
              "      <td>2764.0</td>\n",
              "      <td>2743.0</td>\n",
              "      <td>2674.0</td>\n",
              "      <td>1.611386e+09</td>\n",
              "    </tr>\n",
              "    <tr>\n",
              "      <th>2</th>\n",
              "      <td>2</td>\n",
              "      <td>292030</td>\n",
              "      <td>The Witcher 3: Wild Hunt</td>\n",
              "      <td>85185111</td>\n",
              "      <td>schinese</td>\n",
              "      <td>巫师3NB</td>\n",
              "      <td>1611380800</td>\n",
              "      <td>1611380800</td>\n",
              "      <td>True</td>\n",
              "      <td>0</td>\n",
              "      <td>...</td>\n",
              "      <td>True</td>\n",
              "      <td>False</td>\n",
              "      <td>False</td>\n",
              "      <td>76561199090098988</td>\n",
              "      <td>5</td>\n",
              "      <td>1</td>\n",
              "      <td>1061.0</td>\n",
              "      <td>1061.0</td>\n",
              "      <td>1060.0</td>\n",
              "      <td>1.611384e+09</td>\n",
              "    </tr>\n",
              "    <tr>\n",
              "      <th>3</th>\n",
              "      <td>3</td>\n",
              "      <td>292030</td>\n",
              "      <td>The Witcher 3: Wild Hunt</td>\n",
              "      <td>85184605</td>\n",
              "      <td>english</td>\n",
              "      <td>One of the best RPG's of all time, worthy of a...</td>\n",
              "      <td>1611379970</td>\n",
              "      <td>1611379970</td>\n",
              "      <td>True</td>\n",
              "      <td>0</td>\n",
              "      <td>...</td>\n",
              "      <td>True</td>\n",
              "      <td>False</td>\n",
              "      <td>False</td>\n",
              "      <td>76561199054755373</td>\n",
              "      <td>5</td>\n",
              "      <td>3</td>\n",
              "      <td>5587.0</td>\n",
              "      <td>3200.0</td>\n",
              "      <td>5524.0</td>\n",
              "      <td>1.611384e+09</td>\n",
              "    </tr>\n",
              "    <tr>\n",
              "      <th>4</th>\n",
              "      <td>4</td>\n",
              "      <td>292030</td>\n",
              "      <td>The Witcher 3: Wild Hunt</td>\n",
              "      <td>85184287</td>\n",
              "      <td>schinese</td>\n",
              "      <td>大作</td>\n",
              "      <td>1611379427</td>\n",
              "      <td>1611379427</td>\n",
              "      <td>True</td>\n",
              "      <td>0</td>\n",
              "      <td>...</td>\n",
              "      <td>True</td>\n",
              "      <td>False</td>\n",
              "      <td>False</td>\n",
              "      <td>76561199028326951</td>\n",
              "      <td>7</td>\n",
              "      <td>4</td>\n",
              "      <td>217.0</td>\n",
              "      <td>42.0</td>\n",
              "      <td>217.0</td>\n",
              "      <td>1.610788e+09</td>\n",
              "    </tr>\n",
              "  </tbody>\n",
              "</table>\n",
              "<p>5 rows × 23 columns</p>\n",
              "</div>\n",
              "    <div class=\"colab-df-buttons\">\n",
              "\n",
              "  <div class=\"colab-df-container\">\n",
              "    <button class=\"colab-df-convert\" onclick=\"convertToInteractive('df-acf41227-670b-42a8-afce-128cc0ba565c')\"\n",
              "            title=\"Convert this dataframe to an interactive table.\"\n",
              "            style=\"display:none;\">\n",
              "\n",
              "  <svg xmlns=\"http://www.w3.org/2000/svg\" height=\"24px\" viewBox=\"0 -960 960 960\">\n",
              "    <path d=\"M120-120v-720h720v720H120Zm60-500h600v-160H180v160Zm220 220h160v-160H400v160Zm0 220h160v-160H400v160ZM180-400h160v-160H180v160Zm440 0h160v-160H620v160ZM180-180h160v-160H180v160Zm440 0h160v-160H620v160Z\"/>\n",
              "  </svg>\n",
              "    </button>\n",
              "\n",
              "  <style>\n",
              "    .colab-df-container {\n",
              "      display:flex;\n",
              "      gap: 12px;\n",
              "    }\n",
              "\n",
              "    .colab-df-convert {\n",
              "      background-color: #E8F0FE;\n",
              "      border: none;\n",
              "      border-radius: 50%;\n",
              "      cursor: pointer;\n",
              "      display: none;\n",
              "      fill: #1967D2;\n",
              "      height: 32px;\n",
              "      padding: 0 0 0 0;\n",
              "      width: 32px;\n",
              "    }\n",
              "\n",
              "    .colab-df-convert:hover {\n",
              "      background-color: #E2EBFA;\n",
              "      box-shadow: 0px 1px 2px rgba(60, 64, 67, 0.3), 0px 1px 3px 1px rgba(60, 64, 67, 0.15);\n",
              "      fill: #174EA6;\n",
              "    }\n",
              "\n",
              "    .colab-df-buttons div {\n",
              "      margin-bottom: 4px;\n",
              "    }\n",
              "\n",
              "    [theme=dark] .colab-df-convert {\n",
              "      background-color: #3B4455;\n",
              "      fill: #D2E3FC;\n",
              "    }\n",
              "\n",
              "    [theme=dark] .colab-df-convert:hover {\n",
              "      background-color: #434B5C;\n",
              "      box-shadow: 0px 1px 3px 1px rgba(0, 0, 0, 0.15);\n",
              "      filter: drop-shadow(0px 1px 2px rgba(0, 0, 0, 0.3));\n",
              "      fill: #FFFFFF;\n",
              "    }\n",
              "  </style>\n",
              "\n",
              "    <script>\n",
              "      const buttonEl =\n",
              "        document.querySelector('#df-acf41227-670b-42a8-afce-128cc0ba565c button.colab-df-convert');\n",
              "      buttonEl.style.display =\n",
              "        google.colab.kernel.accessAllowed ? 'block' : 'none';\n",
              "\n",
              "      async function convertToInteractive(key) {\n",
              "        const element = document.querySelector('#df-acf41227-670b-42a8-afce-128cc0ba565c');\n",
              "        const dataTable =\n",
              "          await google.colab.kernel.invokeFunction('convertToInteractive',\n",
              "                                                    [key], {});\n",
              "        if (!dataTable) return;\n",
              "\n",
              "        const docLinkHtml = 'Like what you see? Visit the ' +\n",
              "          '<a target=\"_blank\" href=https://colab.research.google.com/notebooks/data_table.ipynb>data table notebook</a>'\n",
              "          + ' to learn more about interactive tables.';\n",
              "        element.innerHTML = '';\n",
              "        dataTable['output_type'] = 'display_data';\n",
              "        await google.colab.output.renderOutput(dataTable, element);\n",
              "        const docLink = document.createElement('div');\n",
              "        docLink.innerHTML = docLinkHtml;\n",
              "        element.appendChild(docLink);\n",
              "      }\n",
              "    </script>\n",
              "  </div>\n",
              "\n",
              "\n",
              "<div id=\"df-65b76156-f948-4e91-b3e1-6eef9da68ec6\">\n",
              "  <button class=\"colab-df-quickchart\" onclick=\"quickchart('df-65b76156-f948-4e91-b3e1-6eef9da68ec6')\"\n",
              "            title=\"Suggest charts\"\n",
              "            style=\"display:none;\">\n",
              "\n",
              "<svg xmlns=\"http://www.w3.org/2000/svg\" height=\"24px\"viewBox=\"0 0 24 24\"\n",
              "     width=\"24px\">\n",
              "    <g>\n",
              "        <path d=\"M19 3H5c-1.1 0-2 .9-2 2v14c0 1.1.9 2 2 2h14c1.1 0 2-.9 2-2V5c0-1.1-.9-2-2-2zM9 17H7v-7h2v7zm4 0h-2V7h2v10zm4 0h-2v-4h2v4z\"/>\n",
              "    </g>\n",
              "</svg>\n",
              "  </button>\n",
              "\n",
              "<style>\n",
              "  .colab-df-quickchart {\n",
              "      --bg-color: #E8F0FE;\n",
              "      --fill-color: #1967D2;\n",
              "      --hover-bg-color: #E2EBFA;\n",
              "      --hover-fill-color: #174EA6;\n",
              "      --disabled-fill-color: #AAA;\n",
              "      --disabled-bg-color: #DDD;\n",
              "  }\n",
              "\n",
              "  [theme=dark] .colab-df-quickchart {\n",
              "      --bg-color: #3B4455;\n",
              "      --fill-color: #D2E3FC;\n",
              "      --hover-bg-color: #434B5C;\n",
              "      --hover-fill-color: #FFFFFF;\n",
              "      --disabled-bg-color: #3B4455;\n",
              "      --disabled-fill-color: #666;\n",
              "  }\n",
              "\n",
              "  .colab-df-quickchart {\n",
              "    background-color: var(--bg-color);\n",
              "    border: none;\n",
              "    border-radius: 50%;\n",
              "    cursor: pointer;\n",
              "    display: none;\n",
              "    fill: var(--fill-color);\n",
              "    height: 32px;\n",
              "    padding: 0;\n",
              "    width: 32px;\n",
              "  }\n",
              "\n",
              "  .colab-df-quickchart:hover {\n",
              "    background-color: var(--hover-bg-color);\n",
              "    box-shadow: 0 1px 2px rgba(60, 64, 67, 0.3), 0 1px 3px 1px rgba(60, 64, 67, 0.15);\n",
              "    fill: var(--button-hover-fill-color);\n",
              "  }\n",
              "\n",
              "  .colab-df-quickchart-complete:disabled,\n",
              "  .colab-df-quickchart-complete:disabled:hover {\n",
              "    background-color: var(--disabled-bg-color);\n",
              "    fill: var(--disabled-fill-color);\n",
              "    box-shadow: none;\n",
              "  }\n",
              "\n",
              "  .colab-df-spinner {\n",
              "    border: 2px solid var(--fill-color);\n",
              "    border-color: transparent;\n",
              "    border-bottom-color: var(--fill-color);\n",
              "    animation:\n",
              "      spin 1s steps(1) infinite;\n",
              "  }\n",
              "\n",
              "  @keyframes spin {\n",
              "    0% {\n",
              "      border-color: transparent;\n",
              "      border-bottom-color: var(--fill-color);\n",
              "      border-left-color: var(--fill-color);\n",
              "    }\n",
              "    20% {\n",
              "      border-color: transparent;\n",
              "      border-left-color: var(--fill-color);\n",
              "      border-top-color: var(--fill-color);\n",
              "    }\n",
              "    30% {\n",
              "      border-color: transparent;\n",
              "      border-left-color: var(--fill-color);\n",
              "      border-top-color: var(--fill-color);\n",
              "      border-right-color: var(--fill-color);\n",
              "    }\n",
              "    40% {\n",
              "      border-color: transparent;\n",
              "      border-right-color: var(--fill-color);\n",
              "      border-top-color: var(--fill-color);\n",
              "    }\n",
              "    60% {\n",
              "      border-color: transparent;\n",
              "      border-right-color: var(--fill-color);\n",
              "    }\n",
              "    80% {\n",
              "      border-color: transparent;\n",
              "      border-right-color: var(--fill-color);\n",
              "      border-bottom-color: var(--fill-color);\n",
              "    }\n",
              "    90% {\n",
              "      border-color: transparent;\n",
              "      border-bottom-color: var(--fill-color);\n",
              "    }\n",
              "  }\n",
              "</style>\n",
              "\n",
              "  <script>\n",
              "    async function quickchart(key) {\n",
              "      const quickchartButtonEl =\n",
              "        document.querySelector('#' + key + ' button');\n",
              "      quickchartButtonEl.disabled = true;  // To prevent multiple clicks.\n",
              "      quickchartButtonEl.classList.add('colab-df-spinner');\n",
              "      try {\n",
              "        const charts = await google.colab.kernel.invokeFunction(\n",
              "            'suggestCharts', [key], {});\n",
              "      } catch (error) {\n",
              "        console.error('Error during call to suggestCharts:', error);\n",
              "      }\n",
              "      quickchartButtonEl.classList.remove('colab-df-spinner');\n",
              "      quickchartButtonEl.classList.add('colab-df-quickchart-complete');\n",
              "    }\n",
              "    (() => {\n",
              "      let quickchartButtonEl =\n",
              "        document.querySelector('#df-65b76156-f948-4e91-b3e1-6eef9da68ec6 button');\n",
              "      quickchartButtonEl.style.display =\n",
              "        google.colab.kernel.accessAllowed ? 'block' : 'none';\n",
              "    })();\n",
              "  </script>\n",
              "</div>\n",
              "\n",
              "    </div>\n",
              "  </div>\n"
            ],
            "application/vnd.google.colaboratory.intrinsic+json": {
              "type": "dataframe"
            }
          },
          "metadata": {},
          "execution_count": 18
        }
      ]
    },
    {
      "cell_type": "code",
      "source": [
        "import yaml\n",
        "\n",
        "#Define schema with expected column names and separator\n",
        "schema = {\n",
        "    \"separator\": \"|\",  # Define the separator for the output file\n",
        "    \"columns\": list(df_dask.columns)  # Getting column names from Dask\n",
        "}\n",
        "\n",
        "# Saving schema to a YAML file\n",
        "schema_file = \"schema.yaml\"\n",
        "with open(schema_file, \"w\") as file:\n",
        "    yaml.dump(schema, file, default_flow_style=False)\n",
        "\n",
        "print(f\"Schema file '{schema_file}' created successfully!\")\n"
      ],
      "metadata": {
        "colab": {
          "base_uri": "https://localhost:8080/"
        },
        "id": "DlbtF3dnjHxd",
        "outputId": "6cc7904e-449d-4b2d-8851-7a8d5a5eb08d"
      },
      "execution_count": 21,
      "outputs": [
        {
          "output_type": "stream",
          "name": "stdout",
          "text": [
            "Schema file 'schema.yaml' created successfully!\n"
          ]
        }
      ]
    },
    {
      "cell_type": "code",
      "source": [
        "df_dask = dd.read_csv(file_path, blocksize=\"100MB\", on_bad_lines='skip', quoting=3)\n"
      ],
      "metadata": {
        "id": "dqzb1KI1kuik"
      },
      "execution_count": 35,
      "outputs": []
    },
    {
      "cell_type": "code",
      "source": [
        "df_dask = dd.read_csv(\n",
        "    file_path,\n",
        "    blocksize=\"100MB\",\n",
        "    on_bad_lines='skip',  # Skips problematic rows\n",
        "    low_memory=False,  # Ensures consistent dtype detection\n",
        "    encoding=\"utf-8\",  # Prevents character encoding issues\n",
        "    sep=\",\",  # Explicitly setting CSV separator\n",
        "    quotechar='\"',  # Ensures text within quotes is read correctly\n",
        "    dtype=str  # Forces ALL columns to be read as string (safe approach)\n",
        ")\n",
        "\n",
        "print(\"✅ CSV successfully loaded with all columns as strings for consistency!\")\n",
        "\n"
      ],
      "metadata": {
        "colab": {
          "base_uri": "https://localhost:8080/"
        },
        "id": "jbpyIFVdlsLg",
        "outputId": "fe6e1be2-20ef-4765-e0d8-ed08dd79d7e3"
      },
      "execution_count": 36,
      "outputs": [
        {
          "output_type": "stream",
          "name": "stdout",
          "text": [
            "✅ CSV successfully loaded with all columns as strings for consistency!\n"
          ]
        }
      ]
    },
    {
      "cell_type": "code",
      "source": [
        "# Load schema from YAML\n",
        "with open(schema_file, \"r\") as file:\n",
        "    schema = yaml.safe_load(file)\n",
        "\n",
        "# Function to validate schema without using `.compute()`\n",
        "def validate_schema_dask(df, schema):\n",
        "    # Get column names directly from Dask DataFrame\n",
        "    dask_columns = list(df.columns)\n",
        "\n",
        "    # Check column count\n",
        "    if len(dask_columns) != len(schema[\"columns\"]):\n",
        "        print(\"❌ Column count mismatch!\")\n",
        "        return False\n",
        "\n",
        "    # Check column names\n",
        "    if dask_columns != schema[\"columns\"]:\n",
        "        print(\"❌ Column names mismatch!\")\n",
        "        return False\n",
        "\n",
        "    print(\"✅ Schema validation passed successfully!\")\n",
        "    return True\n",
        "\n",
        "# Apply schema validation to Dask DataFrame\n",
        "validate_schema_dask(df_dask, schema)\n"
      ],
      "metadata": {
        "colab": {
          "base_uri": "https://localhost:8080/"
        },
        "id": "OgeiDCU7labW",
        "outputId": "3f1472e3-5475-4055-c11a-426e61a18b9e"
      },
      "execution_count": 38,
      "outputs": [
        {
          "output_type": "stream",
          "name": "stdout",
          "text": [
            "❌ Column names mismatch!\n"
          ]
        },
        {
          "output_type": "execute_result",
          "data": {
            "text/plain": [
              "False"
            ]
          },
          "metadata": {},
          "execution_count": 38
        }
      ]
    },
    {
      "cell_type": "code",
      "source": [
        "print(\"📌 Columns in Dask DataFrame:\", list(df_dask.columns))\n",
        "print(\"📌 Columns in YAML Schema:\", schema[\"columns\"])\n"
      ],
      "metadata": {
        "colab": {
          "base_uri": "https://localhost:8080/"
        },
        "id": "CZkaZvD4nyqf",
        "outputId": "9e80038d-4bec-472e-ef17-e8466efc9639"
      },
      "execution_count": 39,
      "outputs": [
        {
          "output_type": "stream",
          "name": "stdout",
          "text": [
            "📌 Columns in Dask DataFrame: ['Unnamed: 0', 'app_id', 'app_name', 'review_id', 'language', 'review', 'timestamp_created', 'timestamp_updated', 'recommended', 'votes_helpful', 'votes_funny', 'weighted_vote_score', 'comment_count', 'steam_purchase', 'received_for_free', 'written_during_early_access', 'author.steamid', 'author.num_games_owned', 'author.num_reviews', 'author.playtime_forever', 'author.playtime_last_two_weeks', 'author.playtime_at_review', 'author.last_played']\n",
            "📌 Columns in YAML Schema: ['Unnamed0', 'app_id', 'app_name', 'review_id', 'language', 'review', 'timestamp_created', 'timestamp_updated', 'recommended', 'votes_helpful', 'votes_funny', 'weighted_vote_score', 'comment_count', 'steam_purchase', 'received_for_free', 'written_during_early_access', 'authorsteamid', 'authornum_games_owned', 'authornum_reviews', 'authorplaytime_forever', 'authorplaytime_last_two_weeks', 'authorplaytime_at_review', 'authorlast_played']\n"
          ]
        }
      ]
    },
    {
      "cell_type": "code",
      "source": [
        "# Force column names to match schema\n",
        "df_dask = df_dask.rename(columns=dict(zip(list(df_dask.columns), schema[\"columns\"])))\n",
        "\n",
        "print(\"✅ Columns renamed to match schema!\")\n"
      ],
      "metadata": {
        "colab": {
          "base_uri": "https://localhost:8080/"
        },
        "id": "xiEhQZQHn_3d",
        "outputId": "55e1481c-eba5-484e-f5aa-a2a1d82827f6"
      },
      "execution_count": 40,
      "outputs": [
        {
          "output_type": "stream",
          "name": "stdout",
          "text": [
            "✅ Columns renamed to match schema!\n"
          ]
        }
      ]
    },
    {
      "cell_type": "code",
      "source": [
        "validate_schema_dask(df_dask, schema)\n"
      ],
      "metadata": {
        "colab": {
          "base_uri": "https://localhost:8080/"
        },
        "id": "BoZ8e9CdoBbu",
        "outputId": "f60c7afb-cd55-434f-c993-4d321de9ec0a"
      },
      "execution_count": 41,
      "outputs": [
        {
          "output_type": "stream",
          "name": "stdout",
          "text": [
            "✅ Schema validation passed successfully!\n"
          ]
        },
        {
          "output_type": "execute_result",
          "data": {
            "text/plain": [
              "True"
            ]
          },
          "metadata": {},
          "execution_count": 41
        }
      ]
    },
    {
      "cell_type": "code",
      "source": [
        "df_dask_cleaned = df_dask.dropna()  # Removes rows with missing values\n",
        "df_dask_cleaned = df_dask_cleaned[df_dask_cleaned.applymap(lambda x: isinstance(x, str))]  # Removes non-string values\n",
        "\n",
        "print(\"✅ Cleaned dataset, now trying to save...\")\n",
        "\n"
      ],
      "metadata": {
        "colab": {
          "base_uri": "https://localhost:8080/"
        },
        "id": "cd7-fQ9spTWe",
        "outputId": "a1c7bc73-848b-4be6-954c-78adfa4d8e7a"
      },
      "execution_count": 46,
      "outputs": [
        {
          "output_type": "stream",
          "name": "stdout",
          "text": [
            "✅ Cleaned dataset, now trying to save...\n"
          ]
        },
        {
          "output_type": "stream",
          "name": "stderr",
          "text": [
            "FutureWarning: DataFrame.applymap has been deprecated. Use DataFrame.map instead.\n"
          ]
        }
      ]
    },
    {
      "cell_type": "code",
      "source": [
        "df_dask_cleaned = df_dask.dropna()  # Removes rows with missing values\n"
      ],
      "metadata": {
        "id": "S3InWOobp5T0"
      },
      "execution_count": 48,
      "outputs": []
    },
    {
      "cell_type": "code",
      "source": [
        "df_dask_cleaned = df_dask_cleaned.map_partitions(lambda df: df.astype(str))\n"
      ],
      "metadata": {
        "id": "XhQVUczoqUh4"
      },
      "execution_count": 49,
      "outputs": []
    },
    {
      "cell_type": "code",
      "source": [
        "df_dask_cleaned = df_dask_cleaned.map_partitions(lambda df: df.applymap(lambda x: x.replace(\"\\n\", \" \") if isinstance(x, str) else x))\n"
      ],
      "metadata": {
        "colab": {
          "base_uri": "https://localhost:8080/"
        },
        "id": "ESeVOTAfqXIK",
        "outputId": "19f7bef9-dee8-4af3-eb3a-541903e84f14"
      },
      "execution_count": 50,
      "outputs": [
        {
          "output_type": "stream",
          "name": "stderr",
          "text": [
            "FutureWarning: DataFrame.applymap has been deprecated. Use DataFrame.map instead.\n"
          ]
        }
      ]
    },
    {
      "cell_type": "code",
      "source": [
        "# Re-load the dataset using Dask if needed\n",
        "if \"df_dask\" not in locals():\n",
        "    import dask.dataframe as dd\n",
        "    file_path = \"/content/drive/My Drive/steam_reviews.csv\"  # Adjust the path if needed\n",
        "    df_dask = dd.read_csv(file_path)\n",
        "\n",
        "# Apply cleaning steps again\n",
        "df_dask_cleaned = df_dask.dropna()\n",
        "df_dask_cleaned = df_dask_cleaned.map_partitions(lambda df: df.astype(str))\n",
        "df_dask_cleaned = df_dask_cleaned.map_partitions(lambda df: df.applymap(lambda x: x.replace(\"\\n\", \" \") if isinstance(x, str) else x))\n",
        "\n",
        "print(\"✅ `df_dask_cleaned` recreated successfully!\")\n"
      ],
      "metadata": {
        "colab": {
          "base_uri": "https://localhost:8080/"
        },
        "id": "FBZ39NiysCTX",
        "outputId": "c027caf4-f6b8-430f-a15b-ac6aaf86f1c8"
      },
      "execution_count": 4,
      "outputs": [
        {
          "output_type": "stream",
          "name": "stderr",
          "text": [
            "/usr/local/lib/python3.11/dist-packages/dask/dataframe/__init__.py:42: FutureWarning: \n",
            "Dask dataframe query planning is disabled because dask-expr is not installed.\n",
            "\n",
            "You can install it with `pip install dask[dataframe]` or `conda install dask`.\n",
            "This will raise in a future version.\n",
            "\n",
            "  warnings.warn(msg, FutureWarning)\n",
            "<ipython-input-4-330bc2d3c98c>:10: FutureWarning: DataFrame.applymap has been deprecated. Use DataFrame.map instead.\n",
            "  df_dask_cleaned = df_dask_cleaned.map_partitions(lambda df: df.applymap(lambda x: x.replace(\"\\n\", \" \") if isinstance(x, str) else x))\n"
          ]
        },
        {
          "output_type": "stream",
          "name": "stdout",
          "text": [
            "✅ `df_dask_cleaned` recreated successfully!\n"
          ]
        }
      ]
    },
    {
      "cell_type": "code",
      "source": [
        "import dask.dataframe as dd\n",
        "\n",
        "# Ensure df_dask_cleaned is properly defined\n",
        "if \"df_dask_cleaned\" not in locals():\n",
        "    print(\"🔄 Reloading dataset...\")\n",
        "    file_path = \"/content/drive/My Drive/steam_reviews.csv\"\n",
        "    df_dask = dd.read_csv(file_path, blocksize=\"50MB\", dtype=str, assume_missing=True)\n",
        "\n",
        "    df_dask_cleaned = df_dask.dropna()  # Remove missing values\n",
        "    df_dask_cleaned = df_dask_cleaned.map_partitions(lambda df: df.astype(str))  # Ensure all are strings\n",
        "    df_dask_cleaned = df_dask_cleaned.map_partitions(lambda df: df.applymap(lambda x: x.replace(\"\\n\", \" \") if isinstance(x, str) else x))  # Remove newlines\n",
        "\n",
        "# Remove rows that might have unclosed strings\n",
        "def filter_valid_rows(df):\n",
        "    try:\n",
        "        df.to_csv(\"test.csv\", index=False)  # Try writing to a test file\n",
        "        return df\n",
        "    except:\n",
        "        return None  # Skip problematic rows\n",
        "\n",
        "df_dask_cleaned = df_dask_cleaned.map_partitions(filter_valid_rows)\n",
        "\n",
        "print(\"✅ Successfully filtered out bad rows.\")\n"
      ],
      "metadata": {
        "colab": {
          "base_uri": "https://localhost:8080/"
        },
        "id": "JfhA8pkirjAy",
        "outputId": "0f15ef90-bb17-43d7-d9d1-2616259e6880"
      },
      "execution_count": 7,
      "outputs": [
        {
          "output_type": "stream",
          "name": "stdout",
          "text": [
            "✅ Successfully filtered out bad rows.\n"
          ]
        }
      ]
    },
    {
      "cell_type": "code",
      "source": [
        "import dask.dataframe as dd\n",
        "\n",
        "file_path = \"/content/drive/My Drive/steam_reviews.csv\"\n",
        "\n",
        "df_dask = dd.read_csv(\n",
        "    file_path,\n",
        "    blocksize=\"50MB\",  # Read in small chunks to avoid memory crashes\n",
        "    dtype=str,  # Treat everything as a string to avoid conversion errors\n",
        "    encoding=\"utf-8\",\n",
        "    assume_missing=True,  # Helps with missing values\n",
        "    on_bad_lines=\"skip\",  # Skips problematic rows\n",
        "    low_memory=False  # Forces Pandas to handle large data better\n",
        ")\n",
        "\n",
        "print(\"✅ Successfully loaded CSV safely!\")\n"
      ],
      "metadata": {
        "colab": {
          "base_uri": "https://localhost:8080/"
        },
        "id": "oWujyxmhseLb",
        "outputId": "50c3fb2f-69da-47c5-f353-3d2613dd0814"
      },
      "execution_count": 9,
      "outputs": [
        {
          "output_type": "stream",
          "name": "stdout",
          "text": [
            "✅ Successfully loaded CSV safely!\n"
          ]
        }
      ]
    },
    {
      "cell_type": "code",
      "source": [
        "# Remove rows with missing values\n",
        "df_dask_cleaned = df_dask.dropna()\n",
        "\n",
        "# Convert everything to string to avoid dtype errors\n",
        "df_dask_cleaned = df_dask_cleaned.map_partitions(lambda df: df.astype(str))\n",
        "\n",
        "# Remove unclosed strings and new lines\n",
        "df_dask_cleaned = df_dask_cleaned.map_partitions(lambda df: df.applymap(lambda x: x.replace(\"\\n\", \" \") if isinstance(x, str) else x))\n",
        "\n",
        "print(\"✅ Successfully cleaned the dataset!\")\n"
      ],
      "metadata": {
        "colab": {
          "base_uri": "https://localhost:8080/"
        },
        "id": "VhPRY4UYs3eq",
        "outputId": "06445bb3-3d39-44e8-cd39-34051d8caefc"
      },
      "execution_count": 10,
      "outputs": [
        {
          "output_type": "stream",
          "name": "stdout",
          "text": [
            "✅ Successfully cleaned the dataset!\n"
          ]
        },
        {
          "output_type": "stream",
          "name": "stderr",
          "text": [
            "<ipython-input-10-12af860b5390>:8: FutureWarning: DataFrame.applymap has been deprecated. Use DataFrame.map instead.\n",
            "  df_dask_cleaned = df_dask_cleaned.map_partitions(lambda df: df.applymap(lambda x: x.replace(\"\\n\", \" \") if isinstance(x, str) else x))\n"
          ]
        }
      ]
    },
    {
      "cell_type": "code",
      "source": [
        "import dask.dataframe as dd\n",
        "\n",
        "# Define cleaned file path\n",
        "sample_file_path = \"cleaned_steam_reviews_sample.gz\"\n",
        "\n",
        "# Save in small chunks\n",
        "df_dask_cleaned.to_csv(\n",
        "    sample_file_path,\n",
        "    sep=\"|\",\n",
        "    index=False,\n",
        "    compression=\"gzip\",\n",
        "    single_file=False,  # This ensures it is written in multiple smaller files\n",
        "    encoding=\"utf-8\",\n",
        ")\n",
        "\n",
        "print(f\"✅ Cleaned dataset saved successfully in chunks at '{sample_file_path}'\")\n",
        "\n"
      ],
      "metadata": {
        "colab": {
          "base_uri": "https://localhost:8080/",
          "height": 495
        },
        "id": "wjINU86ps8RV",
        "outputId": "a9885d04-64c6-40ae-c7c2-6989e3dc284d"
      },
      "execution_count": 12,
      "outputs": [
        {
          "output_type": "error",
          "ename": "ParserError",
          "evalue": "Error tokenizing data. C error: EOF inside string starting at row 115752",
          "traceback": [
            "\u001b[0;31m---------------------------------------------------------------------------\u001b[0m",
            "\u001b[0;31mParserError\u001b[0m                               Traceback (most recent call last)",
            "\u001b[0;32m<ipython-input-12-01d49d5bb0fd>\u001b[0m in \u001b[0;36m<cell line: 0>\u001b[0;34m()\u001b[0m\n\u001b[1;32m      5\u001b[0m \u001b[0;34m\u001b[0m\u001b[0m\n\u001b[1;32m      6\u001b[0m \u001b[0;31m# Save in small chunks\u001b[0m\u001b[0;34m\u001b[0m\u001b[0;34m\u001b[0m\u001b[0m\n\u001b[0;32m----> 7\u001b[0;31m df_dask_cleaned.to_csv(\n\u001b[0m\u001b[1;32m      8\u001b[0m     \u001b[0msample_file_path\u001b[0m\u001b[0;34m,\u001b[0m\u001b[0;34m\u001b[0m\u001b[0;34m\u001b[0m\u001b[0m\n\u001b[1;32m      9\u001b[0m     \u001b[0msep\u001b[0m\u001b[0;34m=\u001b[0m\u001b[0;34m\"|\"\u001b[0m\u001b[0;34m,\u001b[0m\u001b[0;34m\u001b[0m\u001b[0;34m\u001b[0m\u001b[0m\n",
            "\u001b[0;32m/usr/local/lib/python3.11/dist-packages/dask/dataframe/core.py\u001b[0m in \u001b[0;36mto_csv\u001b[0;34m(self, filename, **kwargs)\u001b[0m\n\u001b[1;32m   2030\u001b[0m         \u001b[0;32mfrom\u001b[0m \u001b[0mdask\u001b[0m\u001b[0;34m.\u001b[0m\u001b[0mdataframe\u001b[0m\u001b[0;34m.\u001b[0m\u001b[0mio\u001b[0m \u001b[0;32mimport\u001b[0m \u001b[0mto_csv\u001b[0m\u001b[0;34m\u001b[0m\u001b[0;34m\u001b[0m\u001b[0m\n\u001b[1;32m   2031\u001b[0m \u001b[0;34m\u001b[0m\u001b[0m\n\u001b[0;32m-> 2032\u001b[0;31m         \u001b[0;32mreturn\u001b[0m \u001b[0mto_csv\u001b[0m\u001b[0;34m(\u001b[0m\u001b[0mself\u001b[0m\u001b[0;34m,\u001b[0m \u001b[0mfilename\u001b[0m\u001b[0;34m,\u001b[0m \u001b[0;34m**\u001b[0m\u001b[0mkwargs\u001b[0m\u001b[0;34m)\u001b[0m\u001b[0;34m\u001b[0m\u001b[0;34m\u001b[0m\u001b[0m\n\u001b[0m\u001b[1;32m   2033\u001b[0m \u001b[0;34m\u001b[0m\u001b[0m\n\u001b[1;32m   2034\u001b[0m     def to_sql(\n",
            "\u001b[0;32m/usr/local/lib/python3.11/dist-packages/dask/dataframe/io/csv.py\u001b[0m in \u001b[0;36mto_csv\u001b[0;34m(df, filename, single_file, encoding, mode, name_function, compression, compute, scheduler, storage_options, header_first_partition_only, compute_kwargs, **kwargs)\u001b[0m\n\u001b[1;32m   1003\u001b[0m         \u001b[0;32mimport\u001b[0m \u001b[0mdask\u001b[0m\u001b[0;34m\u001b[0m\u001b[0;34m\u001b[0m\u001b[0m\n\u001b[1;32m   1004\u001b[0m \u001b[0;34m\u001b[0m\u001b[0m\n\u001b[0;32m-> 1005\u001b[0;31m         \u001b[0;32mreturn\u001b[0m \u001b[0mlist\u001b[0m\u001b[0;34m(\u001b[0m\u001b[0mdask\u001b[0m\u001b[0;34m.\u001b[0m\u001b[0mcompute\u001b[0m\u001b[0;34m(\u001b[0m\u001b[0;34m*\u001b[0m\u001b[0mvalues\u001b[0m\u001b[0;34m,\u001b[0m \u001b[0;34m**\u001b[0m\u001b[0mcompute_kwargs\u001b[0m\u001b[0;34m)\u001b[0m\u001b[0;34m)\u001b[0m\u001b[0;34m\u001b[0m\u001b[0;34m\u001b[0m\u001b[0m\n\u001b[0m\u001b[1;32m   1006\u001b[0m     \u001b[0;32melse\u001b[0m\u001b[0;34m:\u001b[0m\u001b[0;34m\u001b[0m\u001b[0;34m\u001b[0m\u001b[0m\n\u001b[1;32m   1007\u001b[0m         \u001b[0;32mreturn\u001b[0m \u001b[0mvalues\u001b[0m\u001b[0;34m\u001b[0m\u001b[0;34m\u001b[0m\u001b[0m\n",
            "\u001b[0;32m/usr/local/lib/python3.11/dist-packages/dask/base.py\u001b[0m in \u001b[0;36mcompute\u001b[0;34m(traverse, optimize_graph, scheduler, get, *args, **kwargs)\u001b[0m\n\u001b[1;32m    658\u001b[0m \u001b[0;34m\u001b[0m\u001b[0m\n\u001b[1;32m    659\u001b[0m     \u001b[0;32mwith\u001b[0m \u001b[0mshorten_traceback\u001b[0m\u001b[0;34m(\u001b[0m\u001b[0;34m)\u001b[0m\u001b[0;34m:\u001b[0m\u001b[0;34m\u001b[0m\u001b[0;34m\u001b[0m\u001b[0m\n\u001b[0;32m--> 660\u001b[0;31m         \u001b[0mresults\u001b[0m \u001b[0;34m=\u001b[0m \u001b[0mschedule\u001b[0m\u001b[0;34m(\u001b[0m\u001b[0mdsk\u001b[0m\u001b[0;34m,\u001b[0m \u001b[0mkeys\u001b[0m\u001b[0;34m,\u001b[0m \u001b[0;34m**\u001b[0m\u001b[0mkwargs\u001b[0m\u001b[0;34m)\u001b[0m\u001b[0;34m\u001b[0m\u001b[0;34m\u001b[0m\u001b[0m\n\u001b[0m\u001b[1;32m    661\u001b[0m \u001b[0;34m\u001b[0m\u001b[0m\n\u001b[1;32m    662\u001b[0m     \u001b[0;32mreturn\u001b[0m \u001b[0mrepack\u001b[0m\u001b[0;34m(\u001b[0m\u001b[0;34m[\u001b[0m\u001b[0mf\u001b[0m\u001b[0;34m(\u001b[0m\u001b[0mr\u001b[0m\u001b[0;34m,\u001b[0m \u001b[0;34m*\u001b[0m\u001b[0ma\u001b[0m\u001b[0;34m)\u001b[0m \u001b[0;32mfor\u001b[0m \u001b[0mr\u001b[0m\u001b[0;34m,\u001b[0m \u001b[0;34m(\u001b[0m\u001b[0mf\u001b[0m\u001b[0;34m,\u001b[0m \u001b[0ma\u001b[0m\u001b[0;34m)\u001b[0m \u001b[0;32min\u001b[0m \u001b[0mzip\u001b[0m\u001b[0;34m(\u001b[0m\u001b[0mresults\u001b[0m\u001b[0;34m,\u001b[0m \u001b[0mpostcomputes\u001b[0m\u001b[0;34m)\u001b[0m\u001b[0;34m]\u001b[0m\u001b[0;34m)\u001b[0m\u001b[0;34m\u001b[0m\u001b[0;34m\u001b[0m\u001b[0m\n",
            "\u001b[0;32m/usr/local/lib/python3.11/dist-packages/dask/dataframe/io/csv.py\u001b[0m in \u001b[0;36m__call__\u001b[0;34m(self, part)\u001b[0m\n\u001b[1;32m    140\u001b[0m \u001b[0;34m\u001b[0m\u001b[0m\n\u001b[1;32m    141\u001b[0m         \u001b[0;31m# Call `pandas_read_text`\u001b[0m\u001b[0;34m\u001b[0m\u001b[0;34m\u001b[0m\u001b[0m\n\u001b[0;32m--> 142\u001b[0;31m         df = pandas_read_text(\n\u001b[0m\u001b[1;32m    143\u001b[0m             \u001b[0mself\u001b[0m\u001b[0;34m.\u001b[0m\u001b[0mreader\u001b[0m\u001b[0;34m,\u001b[0m\u001b[0;34m\u001b[0m\u001b[0;34m\u001b[0m\u001b[0m\n\u001b[1;32m    144\u001b[0m             \u001b[0mblock\u001b[0m\u001b[0;34m,\u001b[0m\u001b[0;34m\u001b[0m\u001b[0;34m\u001b[0m\u001b[0m\n",
            "\u001b[0;32m/usr/local/lib/python3.11/dist-packages/dask/dataframe/io/csv.py\u001b[0m in \u001b[0;36mpandas_read_text\u001b[0;34m(reader, b, header, kwargs, dtypes, columns, write_header, enforce, path)\u001b[0m\n\u001b[1;32m    193\u001b[0m     \u001b[0mbio\u001b[0m\u001b[0;34m.\u001b[0m\u001b[0mwrite\u001b[0m\u001b[0;34m(\u001b[0m\u001b[0mb\u001b[0m\u001b[0;34m)\u001b[0m\u001b[0;34m\u001b[0m\u001b[0;34m\u001b[0m\u001b[0m\n\u001b[1;32m    194\u001b[0m     \u001b[0mbio\u001b[0m\u001b[0;34m.\u001b[0m\u001b[0mseek\u001b[0m\u001b[0;34m(\u001b[0m\u001b[0;36m0\u001b[0m\u001b[0;34m)\u001b[0m\u001b[0;34m\u001b[0m\u001b[0;34m\u001b[0m\u001b[0m\n\u001b[0;32m--> 195\u001b[0;31m     \u001b[0mdf\u001b[0m \u001b[0;34m=\u001b[0m \u001b[0mreader\u001b[0m\u001b[0;34m(\u001b[0m\u001b[0mbio\u001b[0m\u001b[0;34m,\u001b[0m \u001b[0;34m**\u001b[0m\u001b[0mkwargs\u001b[0m\u001b[0;34m)\u001b[0m\u001b[0;34m\u001b[0m\u001b[0;34m\u001b[0m\u001b[0m\n\u001b[0m\u001b[1;32m    196\u001b[0m     \u001b[0;32mif\u001b[0m \u001b[0mdtypes\u001b[0m\u001b[0;34m:\u001b[0m\u001b[0;34m\u001b[0m\u001b[0;34m\u001b[0m\u001b[0m\n\u001b[1;32m    197\u001b[0m         \u001b[0mcoerce_dtypes\u001b[0m\u001b[0;34m(\u001b[0m\u001b[0mdf\u001b[0m\u001b[0;34m,\u001b[0m \u001b[0mdtypes\u001b[0m\u001b[0;34m)\u001b[0m\u001b[0;34m\u001b[0m\u001b[0;34m\u001b[0m\u001b[0m\n",
            "\u001b[0;32m/usr/local/lib/python3.11/dist-packages/pandas/io/parsers/readers.py\u001b[0m in \u001b[0;36mread_csv\u001b[0;34m(filepath_or_buffer, sep, delimiter, header, names, index_col, usecols, dtype, engine, converters, true_values, false_values, skipinitialspace, skiprows, skipfooter, nrows, na_values, keep_default_na, na_filter, verbose, skip_blank_lines, parse_dates, infer_datetime_format, keep_date_col, date_parser, date_format, dayfirst, cache_dates, iterator, chunksize, compression, thousands, decimal, lineterminator, quotechar, quoting, doublequote, escapechar, comment, encoding, encoding_errors, dialect, on_bad_lines, delim_whitespace, low_memory, memory_map, float_precision, storage_options, dtype_backend)\u001b[0m\n\u001b[1;32m   1024\u001b[0m     \u001b[0mkwds\u001b[0m\u001b[0;34m.\u001b[0m\u001b[0mupdate\u001b[0m\u001b[0;34m(\u001b[0m\u001b[0mkwds_defaults\u001b[0m\u001b[0;34m)\u001b[0m\u001b[0;34m\u001b[0m\u001b[0;34m\u001b[0m\u001b[0m\n\u001b[1;32m   1025\u001b[0m \u001b[0;34m\u001b[0m\u001b[0m\n\u001b[0;32m-> 1026\u001b[0;31m     \u001b[0;32mreturn\u001b[0m \u001b[0m_read\u001b[0m\u001b[0;34m(\u001b[0m\u001b[0mfilepath_or_buffer\u001b[0m\u001b[0;34m,\u001b[0m \u001b[0mkwds\u001b[0m\u001b[0;34m)\u001b[0m\u001b[0;34m\u001b[0m\u001b[0;34m\u001b[0m\u001b[0m\n\u001b[0m\u001b[1;32m   1027\u001b[0m \u001b[0;34m\u001b[0m\u001b[0m\n\u001b[1;32m   1028\u001b[0m \u001b[0;34m\u001b[0m\u001b[0m\n",
            "\u001b[0;32m/usr/local/lib/python3.11/dist-packages/pandas/io/parsers/readers.py\u001b[0m in \u001b[0;36m_read\u001b[0;34m(filepath_or_buffer, kwds)\u001b[0m\n\u001b[1;32m    624\u001b[0m \u001b[0;34m\u001b[0m\u001b[0m\n\u001b[1;32m    625\u001b[0m     \u001b[0;32mwith\u001b[0m \u001b[0mparser\u001b[0m\u001b[0;34m:\u001b[0m\u001b[0;34m\u001b[0m\u001b[0;34m\u001b[0m\u001b[0m\n\u001b[0;32m--> 626\u001b[0;31m         \u001b[0;32mreturn\u001b[0m \u001b[0mparser\u001b[0m\u001b[0;34m.\u001b[0m\u001b[0mread\u001b[0m\u001b[0;34m(\u001b[0m\u001b[0mnrows\u001b[0m\u001b[0;34m)\u001b[0m\u001b[0;34m\u001b[0m\u001b[0;34m\u001b[0m\u001b[0m\n\u001b[0m\u001b[1;32m    627\u001b[0m \u001b[0;34m\u001b[0m\u001b[0m\n\u001b[1;32m    628\u001b[0m \u001b[0;34m\u001b[0m\u001b[0m\n",
            "\u001b[0;32m/usr/local/lib/python3.11/dist-packages/pandas/io/parsers/readers.py\u001b[0m in \u001b[0;36mread\u001b[0;34m(self, nrows)\u001b[0m\n\u001b[1;32m   1921\u001b[0m                     \u001b[0mcolumns\u001b[0m\u001b[0;34m,\u001b[0m\u001b[0;34m\u001b[0m\u001b[0;34m\u001b[0m\u001b[0m\n\u001b[1;32m   1922\u001b[0m                     \u001b[0mcol_dict\u001b[0m\u001b[0;34m,\u001b[0m\u001b[0;34m\u001b[0m\u001b[0;34m\u001b[0m\u001b[0m\n\u001b[0;32m-> 1923\u001b[0;31m                 \u001b[0;34m)\u001b[0m \u001b[0;34m=\u001b[0m \u001b[0mself\u001b[0m\u001b[0;34m.\u001b[0m\u001b[0m_engine\u001b[0m\u001b[0;34m.\u001b[0m\u001b[0mread\u001b[0m\u001b[0;34m(\u001b[0m  \u001b[0;31m# type: ignore[attr-defined]\u001b[0m\u001b[0;34m\u001b[0m\u001b[0;34m\u001b[0m\u001b[0m\n\u001b[0m\u001b[1;32m   1924\u001b[0m                     \u001b[0mnrows\u001b[0m\u001b[0;34m\u001b[0m\u001b[0;34m\u001b[0m\u001b[0m\n\u001b[1;32m   1925\u001b[0m                 )\n",
            "\u001b[0;32m/usr/local/lib/python3.11/dist-packages/pandas/io/parsers/c_parser_wrapper.py\u001b[0m in \u001b[0;36mread\u001b[0;34m(self, nrows)\u001b[0m\n\u001b[1;32m    237\u001b[0m \u001b[0;34m\u001b[0m\u001b[0m\n\u001b[1;32m    238\u001b[0m             \u001b[0;32melse\u001b[0m\u001b[0;34m:\u001b[0m\u001b[0;34m\u001b[0m\u001b[0;34m\u001b[0m\u001b[0m\n\u001b[0;32m--> 239\u001b[0;31m                 \u001b[0mdata\u001b[0m \u001b[0;34m=\u001b[0m \u001b[0mself\u001b[0m\u001b[0;34m.\u001b[0m\u001b[0m_reader\u001b[0m\u001b[0;34m.\u001b[0m\u001b[0mread\u001b[0m\u001b[0;34m(\u001b[0m\u001b[0mnrows\u001b[0m\u001b[0;34m)\u001b[0m\u001b[0;34m\u001b[0m\u001b[0;34m\u001b[0m\u001b[0m\n\u001b[0m\u001b[1;32m    240\u001b[0m         \u001b[0;32mexcept\u001b[0m \u001b[0mStopIteration\u001b[0m\u001b[0;34m:\u001b[0m\u001b[0;34m\u001b[0m\u001b[0;34m\u001b[0m\u001b[0m\n\u001b[1;32m    241\u001b[0m             \u001b[0;32mif\u001b[0m \u001b[0mself\u001b[0m\u001b[0;34m.\u001b[0m\u001b[0m_first_chunk\u001b[0m\u001b[0;34m:\u001b[0m\u001b[0;34m\u001b[0m\u001b[0;34m\u001b[0m\u001b[0m\n",
            "\u001b[0;32mparsers.pyx\u001b[0m in \u001b[0;36mpandas._libs.parsers.TextReader.read\u001b[0;34m()\u001b[0m\n",
            "\u001b[0;32mparsers.pyx\u001b[0m in \u001b[0;36mpandas._libs.parsers.TextReader._read_rows\u001b[0;34m()\u001b[0m\n",
            "\u001b[0;32mparsers.pyx\u001b[0m in \u001b[0;36mpandas._libs.parsers.TextReader._check_tokenize_status\u001b[0;34m()\u001b[0m\n",
            "\u001b[0;32mparsers.pyx\u001b[0m in \u001b[0;36mpandas._libs.parsers.raise_parser_error\u001b[0;34m()\u001b[0m\n",
            "\u001b[0;31mParserError\u001b[0m: Error tokenizing data. C error: EOF inside string starting at row 115752"
          ]
        }
      ]
    },
    {
      "cell_type": "code",
      "source": [
        "import dask.dataframe as dd\n",
        "\n",
        "# Reload dataset\n",
        "file_path = \"/content/drive/My Drive/steam_reviews.csv\"\n",
        "\n",
        "df_dask = dd.read_csv(\n",
        "    file_path,\n",
        "    blocksize=\"50MB\",  # Process in small chunks to prevent crashes\n",
        "    dtype=str,  # Treat everything as string to avoid type mismatches\n",
        "    encoding=\"utf-8\",\n",
        "    assume_missing=True,\n",
        "    on_bad_lines=\"skip\",\n",
        "    low_memory=False\n",
        ")\n",
        "\n",
        "# ✅ Fix: Use .map() instead of .applymap()\n",
        "df_dask_cleaned = df_dask.dropna()  # Remove missing values\n",
        "df_dask_cleaned = df_dask_cleaned.map_partitions(lambda df: df.astype(str))  # Ensure all data is treated as strings\n",
        "df_dask_cleaned = df_dask_cleaned.map_partitions(lambda df: df.map(lambda x: x.replace(\"\\n\", \" \") if isinstance(x, str) else x))  # Remove newlines\n",
        "\n",
        "print(\"✅ Dataset reloaded and cleaned successfully!\")\n"
      ],
      "metadata": {
        "colab": {
          "base_uri": "https://localhost:8080/"
        },
        "id": "j49jnOLsuD88",
        "outputId": "c9136b91-fd34-475c-cdfd-6daf9d71e83f"
      },
      "execution_count": 4,
      "outputs": [
        {
          "output_type": "stream",
          "name": "stdout",
          "text": [
            "✅ Dataset reloaded and cleaned successfully!\n"
          ]
        }
      ]
    },
    {
      "cell_type": "code",
      "source": [
        "import dask.dataframe as dd\n",
        "\n",
        "file_path = \"/content/drive/My Drive/steam_reviews.csv\"  # Ensure this path is correct\n",
        "\n",
        "# Load the file again\n",
        "df_dask = dd.read_csv(file_path, dtype=str, low_memory=False)\n",
        "\n",
        "print(\"✅ Dask dataframe reloaded successfully!\")\n"
      ],
      "metadata": {
        "colab": {
          "base_uri": "https://localhost:8080/"
        },
        "id": "bEIm39nPwzNl",
        "outputId": "f093356b-2c37-44c3-a81c-32a9d83b8861"
      },
      "execution_count": 7,
      "outputs": [
        {
          "output_type": "stream",
          "name": "stdout",
          "text": [
            "✅ Dask dataframe reloaded successfully!\n"
          ]
        },
        {
          "output_type": "stream",
          "name": "stderr",
          "text": [
            "/usr/local/lib/python3.11/dist-packages/dask/dataframe/__init__.py:42: FutureWarning: \n",
            "Dask dataframe query planning is disabled because dask-expr is not installed.\n",
            "\n",
            "You can install it with `pip install dask[dataframe]` or `conda install dask`.\n",
            "This will raise in a future version.\n",
            "\n",
            "  warnings.warn(msg, FutureWarning)\n"
          ]
        }
      ]
    },
    {
      "cell_type": "code",
      "source": [
        "# Remove missing values\n",
        "df_dask_cleaned = df_dask.dropna()\n",
        "\n",
        "# Convert all columns to string type to prevent dtype issues\n",
        "df_dask_cleaned = df_dask_cleaned.map_partitions(lambda df: df.astype(str))\n",
        "\n",
        "# Remove newlines to prevent formatting errors\n",
        "df_dask_cleaned = df_dask_cleaned.map_partitions(\n",
        "    lambda df: df.map(lambda x: x.replace(\"\\n\", \" \") if isinstance(x, str) else x)\n",
        ")\n",
        "\n",
        "print(\"✅ df_dask_cleaned created successfully!\")\n"
      ],
      "metadata": {
        "colab": {
          "base_uri": "https://localhost:8080/"
        },
        "id": "OLH-5_lwKP-J",
        "outputId": "b7635b03-bc8b-4d23-87f3-bc531150c8f8"
      },
      "execution_count": 16,
      "outputs": [
        {
          "output_type": "stream",
          "name": "stdout",
          "text": [
            "✅ df_dask_cleaned created successfully!\n"
          ]
        }
      ]
    },
    {
      "cell_type": "code",
      "source": [
        "import os\n",
        "import dask.dataframe as dd\n",
        "\n",
        "# Define the output file path (replace with your actual file path)\n",
        "output_file = \"cleaned_steam_reviews_.gz\"\n",
        "\n",
        "# Get the file size in bytes\n",
        "file_size = os.path.getsize(output_file)\n",
        "\n",
        "# Load the cleaned dataset using Dask\n",
        "df_dask_cleaned = dd.read_csv(output_file, sep=\"|\", compression=\"gzip\", assume_missing=True)\n",
        "\n",
        "# Get the number of columns (doesn't need computation)\n",
        "num_cols = len(df_dask_cleaned.columns)\n",
        "\n",
        "# Estimate the total number of rows using Dask optimizations\n",
        "num_rows = df_dask_cleaned.map_partitions(len).sum().compute()\n",
        "\n",
        "# Print the summary\n",
        "print(f\"Total number of rows: {num_rows}\")\n",
        "print(f\"Total number of columns: {num_cols}\")\n",
        "print(f\"File size: {file_size} bytes\")\n"
      ],
      "metadata": {
        "colab": {
          "base_uri": "https://localhost:8080/",
          "height": 245
        },
        "id": "_CaqAgxhV0I5",
        "outputId": "36fa0fff-dbb3-46a0-c959-a6a715189089"
      },
      "execution_count": 25,
      "outputs": [
        {
          "output_type": "error",
          "ename": "FileNotFoundError",
          "evalue": "[Errno 2] No such file or directory: 'cleaned_steam_reviews_.gz'",
          "traceback": [
            "\u001b[0;31m---------------------------------------------------------------------------\u001b[0m",
            "\u001b[0;31mFileNotFoundError\u001b[0m                         Traceback (most recent call last)",
            "\u001b[0;32m<ipython-input-25-0a328d69c1c0>\u001b[0m in \u001b[0;36m<cell line: 0>\u001b[0;34m()\u001b[0m\n\u001b[1;32m      6\u001b[0m \u001b[0;34m\u001b[0m\u001b[0m\n\u001b[1;32m      7\u001b[0m \u001b[0;31m# Get the file size in bytes\u001b[0m\u001b[0;34m\u001b[0m\u001b[0;34m\u001b[0m\u001b[0m\n\u001b[0;32m----> 8\u001b[0;31m \u001b[0mfile_size\u001b[0m \u001b[0;34m=\u001b[0m \u001b[0mos\u001b[0m\u001b[0;34m.\u001b[0m\u001b[0mpath\u001b[0m\u001b[0;34m.\u001b[0m\u001b[0mgetsize\u001b[0m\u001b[0;34m(\u001b[0m\u001b[0moutput_file\u001b[0m\u001b[0;34m)\u001b[0m\u001b[0;34m\u001b[0m\u001b[0;34m\u001b[0m\u001b[0m\n\u001b[0m\u001b[1;32m      9\u001b[0m \u001b[0;34m\u001b[0m\u001b[0m\n\u001b[1;32m     10\u001b[0m \u001b[0;31m# Load the cleaned dataset using Dask\u001b[0m\u001b[0;34m\u001b[0m\u001b[0;34m\u001b[0m\u001b[0m\n",
            "\u001b[0;32m/usr/lib/python3.11/genericpath.py\u001b[0m in \u001b[0;36mgetsize\u001b[0;34m(filename)\u001b[0m\n",
            "\u001b[0;31mFileNotFoundError\u001b[0m: [Errno 2] No such file or directory: 'cleaned_steam_reviews_.gz'"
          ]
        }
      ]
    }
  ]
}